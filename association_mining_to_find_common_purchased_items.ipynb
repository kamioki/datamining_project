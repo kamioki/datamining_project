{
 "cells": [
  {
   "cell_type": "code",
   "execution_count": 1,
   "metadata": {},
   "outputs": [],
   "source": [
    "import numpy as np\n",
    "import pandas as pd\n",
    "import matplotlib.pyplot as plt\n",
    "import seaborn as sns"
   ]
  },
  {
   "cell_type": "code",
   "execution_count": 2,
   "metadata": {},
   "outputs": [
    {
     "name": "stdout",
     "output_type": "stream",
     "text": [
      "<class 'pandas.core.frame.DataFrame'>\n",
      "RangeIndex: 19663 entries, 0 to 19662\n",
      "Data columns (total 8 columns):\n",
      "InvoiceNo      19663 non-null int64\n",
      "StockCode      19663 non-null object\n",
      "Description    19075 non-null object\n",
      "Quantity       19663 non-null int64\n",
      "InvoiceDate    19663 non-null object\n",
      "UnitPrice      19663 non-null float64\n",
      "CustomerID     15678 non-null float64\n",
      "Country        19663 non-null object\n",
      "dtypes: float64(2), int64(2), object(4)\n",
      "memory usage: 1.2+ MB\n"
     ]
    }
   ],
   "source": [
    "#importing the data file and displaying the data types\n",
    "df = pd.read_csv('D1.csv')\n",
    "\n",
    "df.info()"
   ]
  },
  {
   "cell_type": "code",
   "execution_count": 3,
   "metadata": {},
   "outputs": [
    {
     "name": "stdout",
     "output_type": "stream",
     "text": [
      "Description\n",
      "ASSORTED COLOUR BIRD ORNAMENT                  [84879]\n",
      "HEART OF WICKER SMALL                          [22469]\n",
      "JUMBO BAG PINK POLKADOT                        [22386]\n",
      "JUMBO BAG RED RETROSPOT                       [85099B]\n",
      "LUNCH BAG  BLACK SKULL.                        [20727]\n",
      "LUNCH BAG RED RETROSPOT                        [20725]\n",
      "NATURAL SLATE HEART CHALKBOARD                 [22457]\n",
      "PACK OF 72 RETROSPOT CAKE CASES                [21212]\n",
      "PARTY BUNTING                                  [47566]\n",
      "REGENCY CAKESTAND 3 TIER                       [22423]\n",
      "SET OF 3 CAKE TINS PANTRY DESIGN               [22720]\n",
      "WHITE HANGING HEART T-LIGHT HOLDER    [85123A, 85123a]\n",
      "Name: StockCode, dtype: object\n",
      "\n",
      "Description\n",
      "ASSORTED COLOUR BIRD ORNAMENT          [84879]\n",
      "HEART OF WICKER SMALL                  [22469]\n",
      "JUMBO BAG PINK POLKADOT                [22386]\n",
      "JUMBO BAG RED RETROSPOT               [85099B]\n",
      "LUNCH BAG  BLACK SKULL.                [20727]\n",
      "LUNCH BAG RED RETROSPOT                [20725]\n",
      "NATURAL SLATE HEART CHALKBOARD         [22457]\n",
      "PACK OF 72 RETROSPOT CAKE CASES        [21212]\n",
      "PARTY BUNTING                          [47566]\n",
      "REGENCY CAKESTAND 3 TIER               [22423]\n",
      "SET OF 3 CAKE TINS PANTRY DESIGN       [22720]\n",
      "WHITE HANGING HEART T-LIGHT HOLDER    [85123A]\n",
      "Name: StockCode, dtype: object\n",
      "\n",
      "19663\n"
     ]
    }
   ],
   "source": [
    "# cleaning data\n",
    "g = df.groupby('Description')['StockCode'].unique()\n",
    "print(g)\n",
    "print()\n",
    "\n",
    "df2 = df\n",
    "df2.replace({'85123a':'85123A'}, inplace=True)\n",
    "\n",
    "g2 = df2.groupby('Description')['StockCode'].unique()\n",
    "print(g2)\n",
    "print()\n",
    "count = df2['StockCode'].count()\n",
    "print(count)"
   ]
  },
  {
   "cell_type": "code",
   "execution_count": 4,
   "metadata": {},
   "outputs": [
    {
     "name": "stdout",
     "output_type": "stream",
     "text": [
      "StockCode unique =  435\n",
      "Description unique =  13\n",
      "\n",
      "<class 'pandas.core.frame.DataFrame'>\n",
      "Int64Index: 19075 entries, 0 to 19662\n",
      "Data columns (total 8 columns):\n",
      "InvoiceNo      19075 non-null int64\n",
      "StockCode      19075 non-null object\n",
      "Description    19075 non-null object\n",
      "Quantity       19075 non-null int64\n",
      "InvoiceDate    19075 non-null object\n",
      "UnitPrice      19075 non-null float64\n",
      "CustomerID     15678 non-null float64\n",
      "Country        19075 non-null object\n",
      "dtypes: float64(2), int64(2), object(4)\n",
      "memory usage: 1.3+ MB\n",
      "\n",
      "StockCode unique =  12\n",
      "Description unique =  12\n"
     ]
    }
   ],
   "source": [
    "#drop rows where Description is null\n",
    "s = df['StockCode'].nunique(dropna = False)\n",
    "print(\"StockCode unique = \", s)\n",
    "\n",
    "d = df['Description'].nunique(dropna = False)\n",
    "print(\"Description unique = \", d)\n",
    "\n",
    "print()\n",
    "df = df[(df['Description'].notnull())]\n",
    "df.info()\n",
    "print()\n",
    "\n",
    "s = df['StockCode'].nunique(dropna = False)\n",
    "print(\"StockCode unique = \", s)\n",
    "\n",
    "d = df['Description'].nunique(dropna = False)\n",
    "print(\"Description unique = \", d)"
   ]
  },
  {
   "cell_type": "code",
   "execution_count": 5,
   "metadata": {},
   "outputs": [
    {
     "name": "stdout",
     "output_type": "stream",
     "text": [
      "<class 'pandas.core.frame.DataFrame'>\n",
      "Int64Index: 19075 entries, 0 to 19662\n",
      "Data columns (total 8 columns):\n",
      "InvoiceNo      19075 non-null int64\n",
      "StockCode      19075 non-null category\n",
      "Description    19075 non-null category\n",
      "Quantity       19075 non-null int64\n",
      "InvoiceDate    19075 non-null datetime64[ns]\n",
      "UnitPrice      19075 non-null float64\n",
      "CustomerID     15678 non-null float64\n",
      "Country        19075 non-null category\n",
      "dtypes: category(3), datetime64[ns](1), float64(2), int64(2)\n",
      "memory usage: 952.4 KB\n"
     ]
    },
    {
     "name": "stderr",
     "output_type": "stream",
     "text": [
      "N:\\Programs\\Anaconda3\\lib\\site-packages\\ipykernel_launcher.py:2: SettingWithCopyWarning: \n",
      "A value is trying to be set on a copy of a slice from a DataFrame.\n",
      "Try using .loc[row_indexer,col_indexer] = value instead\n",
      "\n",
      "See the caveats in the documentation: http://pandas.pydata.org/pandas-docs/stable/indexing.html#indexing-view-versus-copy\n",
      "  \n",
      "N:\\Programs\\Anaconda3\\lib\\site-packages\\pandas\\core\\frame.py:3391: SettingWithCopyWarning: \n",
      "A value is trying to be set on a copy of a slice from a DataFrame.\n",
      "Try using .loc[row_indexer,col_indexer] = value instead\n",
      "\n",
      "See the caveats in the documentation: http://pandas.pydata.org/pandas-docs/stable/indexing.html#indexing-view-versus-copy\n",
      "  self[k1] = value[k2]\n"
     ]
    }
   ],
   "source": [
    "#fix value types\n",
    "df['InvoiceDate'] = pd.to_datetime(df['InvoiceDate'])\n",
    "\n",
    "df[['StockCode', 'Description', 'Country']] = df[['StockCode', 'Description', 'Country']].astype('category')\n",
    "\n",
    "df.info()"
   ]
  },
  {
   "cell_type": "code",
   "execution_count": 6,
   "metadata": {},
   "outputs": [
    {
     "name": "stdout",
     "output_type": "stream",
     "text": [
      "<class 'pandas.core.frame.DataFrame'>\n",
      "Int64Index: 15678 entries, 0 to 19662\n",
      "Data columns (total 8 columns):\n",
      "InvoiceNo      15678 non-null int64\n",
      "StockCode      15678 non-null category\n",
      "Description    15678 non-null category\n",
      "Quantity       15678 non-null int64\n",
      "InvoiceDate    15678 non-null datetime64[ns]\n",
      "UnitPrice      15678 non-null float64\n",
      "CustomerID     15678 non-null float64\n",
      "Country        15678 non-null category\n",
      "dtypes: category(3), datetime64[ns](1), float64(2), int64(2)\n",
      "memory usage: 783.2 KB\n"
     ]
    }
   ],
   "source": [
    "#drop rows where customer ID is null\n",
    "df2 = df[(df['CustomerID'].notnull())]\n",
    "df2.info()"
   ]
  },
  {
   "cell_type": "code",
   "execution_count": 7,
   "metadata": {},
   "outputs": [
    {
     "name": "stdout",
     "output_type": "stream",
     "text": [
      "CustomerID unique =  2882\n",
      "InvoiceNo unique =  9568\n"
     ]
    }
   ],
   "source": [
    "#compare unique customers and transactions\n",
    "c = df['CustomerID'].nunique(dropna = False)\n",
    "print(\"CustomerID unique = \", c)\n",
    "\n",
    "i = df['InvoiceNo'].nunique(dropna = False)\n",
    "print(\"InvoiceNo unique = \", i)"
   ]
  },
  {
   "cell_type": "code",
   "execution_count": 8,
   "metadata": {},
   "outputs": [
    {
     "name": "stdout",
     "output_type": "stream",
     "text": [
      "1     4922\n",
      "2     2420\n",
      "3     1086\n",
      "4      570\n",
      "5      293\n",
      "6      128\n",
      "7       76\n",
      "8       40\n",
      "9       24\n",
      "10       8\n",
      "11       1\n",
      "Name: StockCode, dtype: int64\n"
     ]
    }
   ],
   "source": [
    "#count of items per transactions\n",
    "g = df.groupby('InvoiceNo')['StockCode'].nunique().sort_values(ascending = False).value_counts()\n",
    "print(g)"
   ]
  },
  {
   "cell_type": "code",
   "execution_count": 12,
   "metadata": {},
   "outputs": [],
   "source": [
    "from apyori import apriori\n",
    "\n",
    "# group by invoices, then list all purchases\n",
    "transactions1 = df.groupby(['InvoiceNo'])['StockCode'].apply(list)\n",
    "\n",
    "# type cast the transactions from pandas into normal list format and run apriori\n",
    "transaction_list1 = list(transactions1)\n",
    "results1 = list(apriori(transaction_list1, min_confidence = 0.3, min_support=0.04))"
   ]
  },
  {
   "cell_type": "code",
   "execution_count": 13,
   "metadata": {},
   "outputs": [
    {
     "name": "stdout",
     "output_type": "stream",
     "text": [
      "  Left_side Right_side   Support  Confidence      Lift\n",
      "3     22386     85099B  0.086225    0.677340  3.097891\n",
      "4    85099B      22386  0.086225    0.394359  3.097891\n",
      "0     20725      20727  0.066994    0.409847  3.080449\n",
      "1     20727      20725  0.066994    0.503535  3.080449\n",
      "2     20725     85099B  0.060514    0.370205  1.693173\n",
      "5     22457     85123A  0.043374    0.332266  1.406690\n",
      "6     22469     85123A  0.040865    0.325562  1.378309\n"
     ]
    }
   ],
   "source": [
    "def convert_apriori_results_to_pandas_df(results1):\n",
    "    rules = []\n",
    "\n",
    "    for rule_set in results1:\n",
    "        for rule in rule_set.ordered_statistics:\n",
    "            # items_base = left side of rules, items_add = right side\n",
    "            # support, confidence and lift for respective rules\n",
    "            rules.append([','.join(rule.items_base), ','.join(rule.items_add), rule_set.support, rule.confidence, rule.lift])\n",
    "\n",
    "    # typecast it to pandas df\n",
    "    return pd.DataFrame(rules, columns=['Left_side', 'Right_side', 'Support', 'Confidence', 'Lift'])\n",
    "\n",
    "result_df = convert_apriori_results_to_pandas_df(results1)\n",
    "\n",
    "# sort all acquired rules descending by lift\n",
    "result_df = result_df.sort_values(by='Lift', ascending=False)\n",
    "print(result_df.head(10))\n",
    "\n",
    "#DROPPED NOTHING\n",
    "#INVOICE ASSOCIATIONS"
   ]
  },
  {
   "cell_type": "code",
   "execution_count": 22,
   "metadata": {},
   "outputs": [],
   "source": [
    "# Q3\n",
    "from apyori import apriori\n",
    "\n",
    "# group by invoices, then list all purchases\n",
    "transactions2 = df2.groupby(['InvoiceNo'])['StockCode'].apply(list)\n",
    "\n",
    "# type cast the transactions from pandas into normal list format and run apriori\n",
    "transaction_list2 = list(transactions2)\n",
    "results2 = list(apriori(transaction_list2, min_confidence = 0.01, min_support=0.01))"
   ]
  },
  {
   "cell_type": "code",
   "execution_count": 23,
   "metadata": {},
   "outputs": [
    {
     "name": "stdout",
     "output_type": "stream",
     "text": [
      "   Left_side Right_side   Support  Confidence      Lift\n",
      "13     20725      20727  0.059248    0.401398  3.329463\n",
      "40     20725     85099B  0.048705    0.329969  1.799568\n",
      "19     20725      22386  0.027275    0.184783  1.851220\n",
      "43     20725     85123A  0.025900    0.175466  0.776821\n",
      "16     20725      21212  0.022576    0.152950  1.297031\n"
     ]
    }
   ],
   "source": [
    "def convert_apriori_results_to_pandas_df(results2):\n",
    "    rules = []\n",
    "\n",
    "    for rule_set in results2:\n",
    "        for rule in rule_set.ordered_statistics:\n",
    "            # items_base = left side of rules, items_add = right side\n",
    "            # support, confidence and lift for respective rules\n",
    "            rules.append([','.join(rule.items_base), ','.join(rule.items_add), rule_set.support, rule.confidence, rule.lift])\n",
    "\n",
    "    # typecast it to pandas df\n",
    "    return pd.DataFrame(rules, columns=['Left_side', 'Right_side', 'Support', 'Confidence', 'Lift'])\n",
    "\n",
    "result_df = convert_apriori_results_to_pandas_df(results2)\n",
    "\n",
    "# sort all acquired rules descending by lift\n",
    "result_df = result_df[(result_df['Left_side'] == '20725')].sort_values(by='Support', ascending=False)\n",
    "print(result_df.head())\n",
    "\n",
    "#ITEMS WITH 20725\n",
    "#DROPPED CUSTOMER = NULL\n",
    "#CUSTOMER ASSOCIATIONS"
   ]
  },
  {
   "cell_type": "code",
   "execution_count": 14,
   "metadata": {},
   "outputs": [
    {
     "name": "stdout",
     "output_type": "stream",
     "text": [
      "1     1079\n",
      "2      664\n",
      "3      414\n",
      "4      287\n",
      "5      176\n",
      "6      110\n",
      "7       66\n",
      "8       38\n",
      "9       30\n",
      "10       9\n",
      "11       4\n",
      "12       4\n",
      "Name: StockCode, dtype: int64\n"
     ]
    }
   ],
   "source": [
    "#Q4\n",
    "#count of items per transactions\n",
    "g = df2.groupby('CustomerID')['StockCode'].nunique().sort_values(ascending = False).value_counts()\n",
    "print(g)"
   ]
  },
  {
   "cell_type": "code",
   "execution_count": 17,
   "metadata": {},
   "outputs": [
    {
     "name": "stdout",
     "output_type": "stream",
     "text": [
      "[['22423', '22423', '22423', '22423'], ['22720', '22423'], ['22423', '22720', '22423', '22720'], ['20725'], ['22423'], ['22423', '21212', '22423', '22423'], ['22423'], ['22720', '22423', '47566', '22423', '22423', '22720', '85099B', '22423', '22423'], ['20725'], ['20725', '47566', '22423', '85099B', '20725', '85099B']]\n"
     ]
    }
   ],
   "source": [
    "# sequence analysis\n",
    "transactions = df2.groupby(['CustomerID'])['StockCode'].apply(list)\n",
    "sequences = transactions.values.tolist()\n",
    "\n",
    "# show the first 10 sequences\n",
    "print(sequences[:10])"
   ]
  },
  {
   "cell_type": "code",
   "execution_count": 27,
   "metadata": {},
   "outputs": [],
   "source": [
    "from collections import defaultdict\n",
    "import subprocess\n",
    "import re\n",
    "\n",
    "''' Uses SPMF to find association rules in supplied transactions '''\n",
    "def get_association_rules(sequences, min_sup, min_conf):\n",
    "    # step 1: create required input for SPMF\n",
    "    \n",
    "    # prepare a dict to uniquely assign each item in the transactions to an int ID\n",
    "    item_dict = defaultdict(int)\n",
    "    output_dict = defaultdict(str)\n",
    "    item_id = 1\n",
    "    \n",
    "    # write your sequences in SPMF format\n",
    "    with open('seq_rule_input.txt', 'w+') as f:\n",
    "        for sequence in sequences:\n",
    "            z = []\n",
    "            for itemset in sequence:\n",
    "                # if there are multiple items in one itemset\n",
    "                if isinstance(itemset, list):\n",
    "                    for item in itemset:\n",
    "                        if item not in item_dict:\n",
    "                            item_dict[item] = item_id\n",
    "                            item_id += 1\n",
    "\n",
    "                        z.append(item_dict[item])\n",
    "                else:\n",
    "                    if itemset not in item_dict:\n",
    "                        item_dict[itemset] = item_id\n",
    "                        output_dict[str(item_id)] = itemset\n",
    "                        item_id += 1\n",
    "                    z.append(item_dict[itemset])\n",
    "                    \n",
    "                # end of itemset\n",
    "                z.append(-1)\n",
    "            \n",
    "            # end of a sequence\n",
    "            z.append(-2)\n",
    "            f.write(' '.join([str(x) for x in z]))\n",
    "            f.write('\\n')\n",
    "    \n",
    "    # run SPMF with supplied parameters\n",
    "    supp_param = '{}%'.format(int(min_sup * 100))\n",
    "    conf_param = '{}%'.format(int(min_conf * 100))\n",
    "    subprocess.call(['java', '-jar', 'spmf.jar', 'run', 'RuleGrowth', \n",
    "                     'seq_rule_input.txt', 'seq_rule_output.txt', \n",
    "                     supp_param, conf_param], shell=True)\n",
    "    \n",
    "    # read back the output rules\n",
    "    outputs = open('seq_rule_output.txt', 'r').read().strip().split('\\n')\n",
    "    output_rules = []\n",
    "    for rule in outputs:\n",
    "        left, right, sup, conf = re.search(pattern=r'([0-9\\,]+) ==> ([0-9\\,]+) #SUP: ([0-9]+) #CONF: ([0-9\\.]+)', string=rule).groups()\n",
    "        sup = int(sup) / len(sequences)\n",
    "        conf = float(conf)\n",
    "        output_rules.append([[output_dict[x] for x in left.split(',')], [output_dict[x] for x in right.split(',')], sup, conf])\n",
    "    \n",
    "    # return pandas DataFrame\n",
    "    return pd.DataFrame(output_rules, columns = ['Left_rule', 'Right_rule', 'Support', 'Confidence'])\n",
    "\n",
    "\n"
   ]
  },
  {
   "cell_type": "code",
   "execution_count": 30,
   "metadata": {},
   "outputs": [
    {
     "data": {
      "text/html": [
       "<div>\n",
       "<style scoped>\n",
       "    .dataframe tbody tr th:only-of-type {\n",
       "        vertical-align: middle;\n",
       "    }\n",
       "\n",
       "    .dataframe tbody tr th {\n",
       "        vertical-align: top;\n",
       "    }\n",
       "\n",
       "    .dataframe thead th {\n",
       "        text-align: right;\n",
       "    }\n",
       "</style>\n",
       "<table border=\"1\" class=\"dataframe\">\n",
       "  <thead>\n",
       "    <tr style=\"text-align: right;\">\n",
       "      <th></th>\n",
       "      <th>Left_rule</th>\n",
       "      <th>Right_rule</th>\n",
       "      <th>Support</th>\n",
       "      <th>Confidence</th>\n",
       "    </tr>\n",
       "  </thead>\n",
       "  <tbody>\n",
       "    <tr>\n",
       "      <th>5</th>\n",
       "      <td>[20725]</td>\n",
       "      <td>[20727]</td>\n",
       "      <td>0.088164</td>\n",
       "      <td>0.477444</td>\n",
       "    </tr>\n",
       "    <tr>\n",
       "      <th>7</th>\n",
       "      <td>[20727]</td>\n",
       "      <td>[20725]</td>\n",
       "      <td>0.083652</td>\n",
       "      <td>0.526201</td>\n",
       "    </tr>\n",
       "    <tr>\n",
       "      <th>0</th>\n",
       "      <td>[20725]</td>\n",
       "      <td>[85099B]</td>\n",
       "      <td>0.078792</td>\n",
       "      <td>0.426692</td>\n",
       "    </tr>\n",
       "    <tr>\n",
       "      <th>10</th>\n",
       "      <td>[22386]</td>\n",
       "      <td>[85099B]</td>\n",
       "      <td>0.078792</td>\n",
       "      <td>0.610215</td>\n",
       "    </tr>\n",
       "    <tr>\n",
       "      <th>9</th>\n",
       "      <td>[22386]</td>\n",
       "      <td>[20725]</td>\n",
       "      <td>0.053801</td>\n",
       "      <td>0.416667</td>\n",
       "    </tr>\n",
       "    <tr>\n",
       "      <th>1</th>\n",
       "      <td>[20725, 20727]</td>\n",
       "      <td>[85099B]</td>\n",
       "      <td>0.047553</td>\n",
       "      <td>0.456667</td>\n",
       "    </tr>\n",
       "    <tr>\n",
       "      <th>3</th>\n",
       "      <td>[85099B, 20727]</td>\n",
       "      <td>[20725]</td>\n",
       "      <td>0.046859</td>\n",
       "      <td>0.630841</td>\n",
       "    </tr>\n",
       "    <tr>\n",
       "      <th>6</th>\n",
       "      <td>[20725, 85099B]</td>\n",
       "      <td>[20727]</td>\n",
       "      <td>0.046859</td>\n",
       "      <td>0.496324</td>\n",
       "    </tr>\n",
       "    <tr>\n",
       "      <th>4</th>\n",
       "      <td>[85099B, 22386]</td>\n",
       "      <td>[20725]</td>\n",
       "      <td>0.045470</td>\n",
       "      <td>0.459649</td>\n",
       "    </tr>\n",
       "    <tr>\n",
       "      <th>8</th>\n",
       "      <td>[20725, 85099B]</td>\n",
       "      <td>[22386]</td>\n",
       "      <td>0.044776</td>\n",
       "      <td>0.474265</td>\n",
       "    </tr>\n",
       "    <tr>\n",
       "      <th>2</th>\n",
       "      <td>[20725, 22386]</td>\n",
       "      <td>[85099B]</td>\n",
       "      <td>0.042346</td>\n",
       "      <td>0.674033</td>\n",
       "    </tr>\n",
       "  </tbody>\n",
       "</table>\n",
       "</div>"
      ],
      "text/plain": [
       "          Left_rule Right_rule   Support  Confidence\n",
       "5           [20725]    [20727]  0.088164    0.477444\n",
       "7           [20727]    [20725]  0.083652    0.526201\n",
       "0           [20725]   [85099B]  0.078792    0.426692\n",
       "10          [22386]   [85099B]  0.078792    0.610215\n",
       "9           [22386]    [20725]  0.053801    0.416667\n",
       "1    [20725, 20727]   [85099B]  0.047553    0.456667\n",
       "3   [85099B, 20727]    [20725]  0.046859    0.630841\n",
       "6   [20725, 85099B]    [20727]  0.046859    0.496324\n",
       "4   [85099B, 22386]    [20725]  0.045470    0.459649\n",
       "8   [20725, 85099B]    [22386]  0.044776    0.474265\n",
       "2    [20725, 22386]   [85099B]  0.042346    0.674033"
      ]
     },
     "execution_count": 30,
     "metadata": {},
     "output_type": "execute_result"
    }
   ],
   "source": [
    "get_association_rules(sequences, 0.04, 0.4).sort_values(by='Support', ascending=False)"
   ]
  }
 ],
 "metadata": {
  "kernelspec": {
   "display_name": "Python 3 (ipykernel)",
   "language": "python",
   "name": "python3"
  },
  "language_info": {
   "codemirror_mode": {
    "name": "ipython",
    "version": 3
   },
   "file_extension": ".py",
   "mimetype": "text/x-python",
   "name": "python",
   "nbconvert_exporter": "python",
   "pygments_lexer": "ipython3",
   "version": "3.8.8"
  }
 },
 "nbformat": 4,
 "nbformat_minor": 2
}
