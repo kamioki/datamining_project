{
 "cells": [
  {
   "cell_type": "code",
   "execution_count": 1,
   "metadata": {},
   "outputs": [],
   "source": [
    "import numpy as np\n",
    "import pandas as pd\n",
    "from sklearn.model_selection import train_test_split\n",
    "import pydot\n",
    "from sklearn.tree import export_graphviz\n",
    "from sklearn.tree import DecisionTreeClassifier\n",
    "from sklearn.metrics import classification_report, accuracy_score\n",
    "from io import StringIO\n",
    "from sklearn.tree import export_graphviz\n",
    "from sklearn import tree"
   ]
  },
  {
   "cell_type": "code",
   "execution_count": 2,
   "metadata": {},
   "outputs": [
    {
     "name": "stdout",
     "output_type": "stream",
     "text": [
      "<class 'pandas.core.frame.DataFrame'>\n",
      "RangeIndex: 142219 entries, 0 to 142218\n",
      "Data columns (total 23 columns):\n",
      "Year             142219 non-null int64\n",
      "Month            142219 non-null int64\n",
      "Location         142219 non-null object\n",
      "MinTemp          142219 non-null float64\n",
      "MaxTemp          142219 non-null float64\n",
      "Rainfall         142219 non-null float64\n",
      "Evaporation      142219 non-null float64\n",
      "Sunshine         142219 non-null float64\n",
      "WindGustDir      142219 non-null object\n",
      "WindGustSpeed    142219 non-null int64\n",
      "WindDir9am       142219 non-null object\n",
      "WindDir3pm       142219 non-null object\n",
      "WindSpeed9am     142219 non-null int64\n",
      "WindSpeed3pm     142219 non-null int64\n",
      "Humidity9am      142219 non-null float64\n",
      "Humidity3pm      142219 non-null float64\n",
      "Pressure9am      142219 non-null float64\n",
      "Pressure3pm      142219 non-null float64\n",
      "Cloud9am         142219 non-null object\n",
      "Cloud3pm         142219 non-null object\n",
      "Temp9am          142219 non-null float64\n",
      "Temp3pm          142219 non-null float64\n",
      "RainTomorrow     142219 non-null int64\n",
      "dtypes: float64(11), int64(6), object(6)\n",
      "memory usage: 25.0+ MB\n"
     ]
    }
   ],
   "source": [
    "#importing the data file and displaying the data types\n",
    "df = pd.read_csv('D3.csv')\n",
    "\n",
    "df[['Location', 'WindGustDir', 'WindDir9am', \n",
    "    'WindDir3pm', 'Cloud9am', 'Cloud3pm']] = df[['Location', 'WindGustDir', 'WindDir9am', \n",
    "                                                 'WindDir3pm', 'Cloud9am', 'Cloud3pm']].astype(str)\n",
    "\n",
    "df.info()"
   ]
  },
  {
   "cell_type": "code",
   "execution_count": 3,
   "metadata": {},
   "outputs": [],
   "source": [
    "# drop Year\n",
    "df.drop(['Year', 'Location', 'Month'], axis=1, inplace=True)"
   ]
  },
  {
   "cell_type": "code",
   "execution_count": 4,
   "metadata": {},
   "outputs": [],
   "source": [
    "# one-hot encoding\n",
    "df = pd.get_dummies(df)"
   ]
  },
  {
   "cell_type": "code",
   "execution_count": 5,
   "metadata": {},
   "outputs": [],
   "source": [
    "# target/input split\n",
    "y = df['RainTomorrow']\n",
    "#X = df[['Humidity3pm', 'Pressure3pm', 'Rainfall', 'WindGustSpeed']]\n",
    "X = df.drop(['RainTomorrow'], axis=1)"
   ]
  },
  {
   "cell_type": "code",
   "execution_count": 6,
   "metadata": {},
   "outputs": [],
   "source": [
    "#convert X from pandas Dataframe to numpy matrix for sklearn\n",
    "X_mat = X.to_numpy()"
   ]
  },
  {
   "cell_type": "code",
   "execution_count": 7,
   "metadata": {},
   "outputs": [],
   "source": [
    "# setting random state\n",
    "rs = 10\n",
    "X_train, X_test, y_train, y_test = train_test_split(X_mat, y, test_size=0.3, stratify=y, random_state=rs)"
   ]
  },
  {
   "cell_type": "code",
   "execution_count": 8,
   "metadata": {},
   "outputs": [
    {
     "data": {
      "text/plain": [
       "DecisionTreeClassifier(random_state=10)"
      ]
     },
     "execution_count": 8,
     "metadata": {},
     "output_type": "execute_result"
    }
   ],
   "source": [
    "# simple decision tree training\n",
    "model = DecisionTreeClassifier(random_state=rs)\n",
    "model.fit(X_train, y_train)"
   ]
  },
  {
   "cell_type": "code",
   "execution_count": 9,
   "metadata": {},
   "outputs": [
    {
     "name": "stdout",
     "output_type": "stream",
     "text": [
      "Train accuracy: 0.9999799101985877\n",
      "Test accuracy: 0.7875123048797638\n"
     ]
    }
   ],
   "source": [
    "# accuracy of the model\n",
    "print(\"Train accuracy:\", model.score(X_train, y_train))\n",
    "print(\"Test accuracy:\", model.score(X_test, y_test))"
   ]
  },
  {
   "cell_type": "code",
   "execution_count": 10,
   "metadata": {},
   "outputs": [
    {
     "name": "stdout",
     "output_type": "stream",
     "text": [
      "              precision    recall  f1-score   support\n",
      "\n",
      "           0       0.87      0.86      0.86     33101\n",
      "           1       0.53      0.54      0.53      9565\n",
      "\n",
      "    accuracy                           0.79     42666\n",
      "   macro avg       0.70      0.70      0.70     42666\n",
      "weighted avg       0.79      0.79      0.79     42666\n",
      "\n"
     ]
    }
   ],
   "source": [
    "# classification report\n",
    "y_pred = model.predict(X_test)\n",
    "print(classification_report(y_test, y_pred))"
   ]
  },
  {
   "cell_type": "code",
   "execution_count": 11,
   "metadata": {},
   "outputs": [
    {
     "name": "stdout",
     "output_type": "stream",
     "text": [
      "Humidity3pm : 0.2573062806776805\n",
      "Pressure3pm : 0.0680068000662357\n",
      "Rainfall : 0.05998860788901846\n",
      "WindGustSpeed : 0.05756123085908559\n",
      "Sunshine : 0.049312258359824036\n",
      "MinTemp : 0.044451352639929255\n",
      "Humidity9am : 0.042901550920543825\n",
      "Pressure9am : 0.04011072656244531\n",
      "MaxTemp : 0.03920341800435303\n",
      "Temp3pm : 0.03809305373346328\n",
      "Temp9am : 0.03790919972010213\n",
      "WindSpeed3pm : 0.02903674742995449\n",
      "WindSpeed9am : 0.027513313931066482\n",
      "Evaporation : 0.02664175908975975\n",
      "WindDir9am_N : 0.004925648269726562\n",
      "Cloud9am_7 : 0.004843236742379715\n",
      "WindDir3pm_N : 0.00445803829527041\n",
      "Cloud3pm_7 : 0.004306034631849159\n",
      "WindDir9am_W : 0.004188400285429368\n",
      "Cloud3pm_8 : 0.004093791804508012\n"
     ]
    }
   ],
   "source": [
    "# grab feature importances from the model and feature name from the original X\n",
    "importances = model.feature_importances_\n",
    "feature_names = X.columns\n",
    "\n",
    "# sort them out in descending order\n",
    "indices = np.argsort(importances)\n",
    "indices = np.flip(indices, axis=0)\n",
    "\n",
    "# limit to 20 features, you can leave this out to print out everything\n",
    "indices = indices[:20]\n",
    "\n",
    "for i in indices:\n",
    "    print(feature_names[i], ':', importances[i])"
   ]
  },
  {
   "cell_type": "code",
   "execution_count": 14,
   "metadata": {},
   "outputs": [
    {
     "name": "stdout",
     "output_type": "stream",
     "text": [
      "Train accuracy: 0.9999799101985877\n",
      "Test accuracy: 0.7875123048797638\n",
      "              precision    recall  f1-score   support\n",
      "\n",
      "           0       0.87      0.86      0.86     33101\n",
      "           1       0.53      0.54      0.53      9565\n",
      "\n",
      "    accuracy                           0.79     42666\n",
      "   macro avg       0.70      0.70      0.70     42666\n",
      "weighted avg       0.79      0.79      0.79     42666\n",
      "\n"
     ]
    }
   ],
   "source": [
    "#default with no set parameters\n",
    "\n",
    "model_small = DecisionTreeClassifier(random_state=rs)\n",
    "model_small.fit(X_train, y_train)\n",
    "n_nodes = model_small.tree_.node_count\n",
    "is_leaves = np.zeros(shape=n_nodes, dtype=bool)\n",
    "\n",
    "print(\"Train accuracy:\", model_small.score(X_train, y_train))\n",
    "print(\"Test accuracy:\", model_small.score(X_test, y_test))\n",
    "\n",
    "y_pred = model_small.predict(X_test)\n",
    "print(classification_report(y_test, y_pred))"
   ]
  },
  {
   "cell_type": "code",
   "execution_count": 15,
   "metadata": {
    "scrolled": true
   },
   "outputs": [
    {
     "name": "stdout",
     "output_type": "stream",
     "text": [
      "Nodes: 23205\n",
      "Leaves: 11603\n"
     ]
    }
   ],
   "source": [
    "print(\"Nodes:\", n_nodes)\n",
    "print(\"Leaves:\", model_small.get_n_leaves())"
   ]
  },
  {
   "cell_type": "code",
   "execution_count": 16,
   "metadata": {},
   "outputs": [
    {
     "name": "stdout",
     "output_type": "stream",
     "text": [
      "Leaves: 11603\n"
     ]
    },
    {
     "data": {
      "text/plain": [
       "{'max_depth': 40,\n",
       " 'node_count': 23205,\n",
       " 'nodes': array([( 1, 17764,  9, 71.5       , 0.34786005, 99553, 9.9553e+04),\n",
       "        ( 2, 12755,  2,  1.05000001, 0.25068335, 83196, 8.3196e+04),\n",
       "        ( 3,  3212,  4,  7.35000014, 0.1972374 , 68336, 6.8336e+04), ...,\n",
       "        (-1,    -1, -2, -2.        , 0.        ,     2, 2.0000e+00),\n",
       "        (-1,    -1, -2, -2.        , 0.        ,     1, 1.0000e+00),\n",
       "        (-1,    -1, -2, -2.        , 0.        ,     3, 3.0000e+00)],\n",
       "       dtype=[('left_child', '<i8'), ('right_child', '<i8'), ('feature', '<i8'), ('threshold', '<f8'), ('impurity', '<f8'), ('n_node_samples', '<i8'), ('weighted_n_node_samples', '<f8')]),\n",
       " 'values': array([[[7.7234e+04, 2.2319e+04]],\n",
       " \n",
       "        [[7.0972e+04, 1.2224e+04]],\n",
       " \n",
       "        [[6.0756e+04, 7.5800e+03]],\n",
       " \n",
       "        ...,\n",
       " \n",
       "        [[2.0000e+00, 0.0000e+00]],\n",
       " \n",
       "        [[0.0000e+00, 1.0000e+00]],\n",
       " \n",
       "        [[3.0000e+00, 0.0000e+00]]])}"
      ]
     },
     "execution_count": 16,
     "metadata": {},
     "output_type": "execute_result"
    }
   ],
   "source": [
    "model.tree_.__getstate__()"
   ]
  },
  {
   "cell_type": "code",
   "execution_count": 17,
   "metadata": {},
   "outputs": [
    {
     "name": "stdout",
     "output_type": "stream",
     "text": [
      "[('__class__', <class 'sklearn.tree._tree.Tree'>), ('__delattr__', <method-wrapper '__delattr__' of sklearn.tree._tree.Tree object at 0x000001EA41FDAE68>), ('__dir__', <built-in method __dir__ of sklearn.tree._tree.Tree object at 0x000001EA41FDAE68>), ('__doc__', \"Array-based representation of a binary decision tree.\\n\\n    The binary tree is represented as a number of parallel arrays. The i-th\\n    element of each array holds information about the node `i`. Node 0 is the\\n    tree's root. You can find a detailed description of all arrays in\\n    `_tree.pxd`. NOTE: Some of the arrays only apply to either leaves or split\\n    nodes, resp. In this case the values of nodes of the other type are\\n    arbitrary!\\n\\n    Attributes\\n    ----------\\n    node_count : int\\n        The number of nodes (internal nodes + leaves) in the tree.\\n\\n    capacity : int\\n        The current capacity (i.e., size) of the arrays, which is at least as\\n        great as `node_count`.\\n\\n    max_depth : int\\n        The depth of the tree, i.e. the maximum depth of its leaves.\\n\\n    children_left : array of int, shape [node_count]\\n        children_left[i] holds the node id of the left child of node i.\\n        For leaves, children_left[i] == TREE_LEAF. Otherwise,\\n        children_left[i] > i. This child handles the case where\\n        X[:, feature[i]] <= threshold[i].\\n\\n    children_right : array of int, shape [node_count]\\n        children_right[i] holds the node id of the right child of node i.\\n        For leaves, children_right[i] == TREE_LEAF. Otherwise,\\n        children_right[i] > i. This child handles the case where\\n        X[:, feature[i]] > threshold[i].\\n\\n    feature : array of int, shape [node_count]\\n        feature[i] holds the feature to split on, for the internal node i.\\n\\n    threshold : array of double, shape [node_count]\\n        threshold[i] holds the threshold for the internal node i.\\n\\n    value : array of double, shape [node_count, n_outputs, max_n_classes]\\n        Contains the constant prediction value of each node.\\n\\n    impurity : array of double, shape [node_count]\\n        impurity[i] holds the impurity (i.e., the value of the splitting\\n        criterion) at node i.\\n\\n    n_node_samples : array of int, shape [node_count]\\n        n_node_samples[i] holds the number of training samples reaching node i.\\n\\n    weighted_n_node_samples : array of int, shape [node_count]\\n        weighted_n_node_samples[i] holds the weighted number of training samples\\n        reaching node i.\\n    \"), ('__eq__', <method-wrapper '__eq__' of sklearn.tree._tree.Tree object at 0x000001EA41FDAE68>), ('__format__', <built-in method __format__ of sklearn.tree._tree.Tree object at 0x000001EA41FDAE68>), ('__ge__', <method-wrapper '__ge__' of sklearn.tree._tree.Tree object at 0x000001EA41FDAE68>), ('__getattribute__', <method-wrapper '__getattribute__' of sklearn.tree._tree.Tree object at 0x000001EA41FDAE68>), ('__getstate__', <built-in method __getstate__ of sklearn.tree._tree.Tree object at 0x000001EA41FDAE68>), ('__gt__', <method-wrapper '__gt__' of sklearn.tree._tree.Tree object at 0x000001EA41FDAE68>), ('__hash__', <method-wrapper '__hash__' of sklearn.tree._tree.Tree object at 0x000001EA41FDAE68>), ('__init__', <method-wrapper '__init__' of sklearn.tree._tree.Tree object at 0x000001EA41FDAE68>), ('__init_subclass__', <built-in method __init_subclass__ of type object at 0x00007FFB87827A30>), ('__le__', <method-wrapper '__le__' of sklearn.tree._tree.Tree object at 0x000001EA41FDAE68>), ('__lt__', <method-wrapper '__lt__' of sklearn.tree._tree.Tree object at 0x000001EA41FDAE68>), ('__ne__', <method-wrapper '__ne__' of sklearn.tree._tree.Tree object at 0x000001EA41FDAE68>), ('__new__', <built-in method __new__ of type object at 0x00007FFB87827A30>), ('__pyx_vtable__', <capsule object NULL at 0x000001EA41C8AD20>), ('__reduce__', <built-in method __reduce__ of sklearn.tree._tree.Tree object at 0x000001EA41FDAE68>), ('__reduce_ex__', <built-in method __reduce_ex__ of sklearn.tree._tree.Tree object at 0x000001EA41FDAE68>), ('__repr__', <method-wrapper '__repr__' of sklearn.tree._tree.Tree object at 0x000001EA41FDAE68>), ('__setattr__', <method-wrapper '__setattr__' of sklearn.tree._tree.Tree object at 0x000001EA41FDAE68>), ('__setstate__', <built-in method __setstate__ of sklearn.tree._tree.Tree object at 0x000001EA41FDAE68>), ('__sizeof__', <built-in method __sizeof__ of sklearn.tree._tree.Tree object at 0x000001EA41FDAE68>), ('__str__', <method-wrapper '__str__' of sklearn.tree._tree.Tree object at 0x000001EA41FDAE68>), ('__subclasshook__', <built-in method __subclasshook__ of type object at 0x00007FFB87827A30>), ('apply', <built-in method apply of sklearn.tree._tree.Tree object at 0x000001EA41FDAE68>), ('capacity', 23205), ('children_left', array([ 1,  2,  3, ..., -1, -1, -1], dtype=int64)), ('children_right', array([17764, 12755,  3212, ...,    -1,    -1,    -1], dtype=int64)), ('compute_feature_importances', <built-in method compute_feature_importances of sklearn.tree._tree.Tree object at 0x000001EA41FDAE68>), ('compute_partial_dependence', <built-in method compute_partial_dependence of sklearn.tree._tree.Tree object at 0x000001EA41FDAE68>), ('decision_path', <built-in method decision_path of sklearn.tree._tree.Tree object at 0x000001EA41FDAE68>), ('feature', array([ 9,  2,  4, ..., -2, -2, -2], dtype=int64)), ('impurity', array([0.34786005, 0.25068335, 0.1972374 , ..., 0.        , 0.        ,\n",
      "       0.        ])), ('max_depth', 40), ('max_n_classes', 2), ('n_classes', array([2], dtype=int64)), ('n_features', 80), ('n_leaves', 11603), ('n_node_samples', array([99553, 83196, 68336, ...,     2,     1,     3], dtype=int64)), ('n_outputs', 1), ('node_count', 23205), ('predict', <built-in method predict of sklearn.tree._tree.Tree object at 0x000001EA41FDAE68>), ('threshold', array([71.5       ,  1.05000001,  7.35000014, ..., -2.        ,\n",
      "       -2.        , -2.        ])), ('value', array([[[7.7234e+04, 2.2319e+04]],\n",
      "\n",
      "       [[7.0972e+04, 1.2224e+04]],\n",
      "\n",
      "       [[6.0756e+04, 7.5800e+03]],\n",
      "\n",
      "       ...,\n",
      "\n",
      "       [[2.0000e+00, 0.0000e+00]],\n",
      "\n",
      "       [[0.0000e+00, 1.0000e+00]],\n",
      "\n",
      "       [[3.0000e+00, 0.0000e+00]]])), ('weighted_n_node_samples', array([9.9553e+04, 8.3196e+04, 6.8336e+04, ..., 2.0000e+00, 1.0000e+00,\n",
      "       3.0000e+00]))]\n"
     ]
    }
   ],
   "source": [
    "# more infomration\n",
    "from inspect import getmembers\n",
    "print( getmembers( model_small.tree_ ) )"
   ]
  },
  {
   "cell_type": "code",
   "execution_count": 18,
   "metadata": {},
   "outputs": [
    {
     "name": "stdout",
     "output_type": "stream",
     "text": [
      "DecisionTreeClassifier(max_depth=1, random_state=10)\n"
     ]
    }
   ],
   "source": [
    "from sklearn import tree\n",
    "model_small = DecisionTreeClassifier(max_depth=1,random_state=rs)\n",
    "model_small.fit(X_train, y_train)\n",
    "tree.plot_tree(model_small,label='root')\n",
    "print(model_small)"
   ]
  },
  {
   "cell_type": "code",
   "execution_count": 19,
   "metadata": {},
   "outputs": [
    {
     "data": {
      "text/plain": [
       "'Humidity3pm'"
      ]
     },
     "execution_count": 19,
     "metadata": {},
     "output_type": "execute_result"
    }
   ],
   "source": [
    "X.columns[9]"
   ]
  },
  {
   "cell_type": "code",
   "execution_count": 21,
   "metadata": {},
   "outputs": [
    {
     "name": "stdout",
     "output_type": "stream",
     "text": [
      "{'mean_fit_time': array([0.25111012, 0.22457283, 0.22583139, 0.41230993, 0.42380226,\n",
      "       0.40837293, 0.58316457, 0.58218298, 0.56872852, 0.71830962,\n",
      "       0.7569108 , 0.6950412 , 0.8470233 , 0.78414066, 0.80570188,\n",
      "       0.93643341, 0.93748581, 0.93106616, 1.04274087, 1.04768093,\n",
      "       1.08930321, 1.2707454 , 1.25066814, 1.21566641, 1.29929066,\n",
      "       1.29008882, 1.32424514, 0.2043978 , 0.20502663, 0.20849743,\n",
      "       0.37080009, 0.37095191, 0.42561607, 0.52730567, 0.52074301,\n",
      "       0.55135169, 0.72429976, 0.71644874, 0.70785716, 0.82345407,\n",
      "       0.83648238, 0.81456645, 0.9430424 , 0.93661726, 0.93344779,\n",
      "       1.06535177, 1.09195242, 1.08900335, 1.216572  , 1.33343399,\n",
      "       1.33075414, 1.45005102, 1.36947882, 1.3559597 ]), 'std_fit_time': array([0.02658346, 0.0104656 , 0.01155076, 0.02208958, 0.01735087,\n",
      "       0.0299832 , 0.05149011, 0.03331424, 0.02723849, 0.02251664,\n",
      "       0.02130503, 0.01789334, 0.04840155, 0.01003276, 0.02781369,\n",
      "       0.03290545, 0.02703553, 0.02644132, 0.013375  , 0.00730362,\n",
      "       0.03875302, 0.03372104, 0.05501325, 0.01100624, 0.02379202,\n",
      "       0.02068304, 0.03998002, 0.00269043, 0.00292685, 0.00242326,\n",
      "       0.0079557 , 0.01255387, 0.04376687, 0.01523111, 0.01253257,\n",
      "       0.03164742, 0.04057168, 0.04088317, 0.04197562, 0.04067636,\n",
      "       0.03245222, 0.01724291, 0.02921558, 0.02241264, 0.02719777,\n",
      "       0.01623969, 0.03662558, 0.03913626, 0.02314695, 0.19522787,\n",
      "       0.12388317, 0.06497522, 0.07084772, 0.02712826]), 'mean_score_time': array([0.00488651, 0.00408652, 0.00398209, 0.00418236, 0.00429022,\n",
      "       0.00418904, 0.00448821, 0.00448785, 0.00478024, 0.00528991,\n",
      "       0.00538206, 0.00458982, 0.00468752, 0.00408878, 0.00428367,\n",
      "       0.00448551, 0.00458324, 0.00549364, 0.00474727, 0.0048876 ,\n",
      "       0.00469215, 0.00509312, 0.0048867 , 0.00512075, 0.00499132,\n",
      "       0.00499282, 0.00519316, 0.00408988, 0.00439799, 0.00419524,\n",
      "       0.00418444, 0.00409021, 0.00428882, 0.00419397, 0.00418601,\n",
      "       0.00418906, 0.00458765, 0.00418637, 0.00458765, 0.00508225,\n",
      "       0.00468771, 0.00449378, 0.00428195, 0.00418928, 0.00468488,\n",
      "       0.00439224, 0.00456913, 0.00468359, 0.00549369, 0.00518181,\n",
      "       0.00488815, 0.00528576, 0.00478694, 0.00508435]), 'std_score_time': array([2.06770043e-03, 3.00036770e-04, 1.39972013e-05, 4.02287865e-04,\n",
      "       4.59383719e-04, 3.99280748e-04, 9.19058445e-04, 8.03419178e-04,\n",
      "       1.53221866e-03, 1.42678098e-03, 2.72242339e-03, 4.91425359e-04,\n",
      "       6.38492562e-04, 3.13071034e-04, 4.48841766e-04, 4.96078635e-04,\n",
      "       4.83440163e-04, 2.18280042e-03, 3.97947324e-04, 6.87631749e-04,\n",
      "       4.59566565e-04, 8.20233011e-04, 8.28501613e-04, 8.36356798e-04,\n",
      "       1.92828755e-05, 1.42067068e-05, 5.96195413e-04, 5.42137247e-04,\n",
      "       4.88874738e-04, 4.03005666e-04, 4.00571848e-04, 5.37007830e-04,\n",
      "       7.79558699e-04, 3.95719797e-04, 4.00511879e-04, 5.98375204e-04,\n",
      "       4.88909837e-04, 4.00697679e-04, 6.61997579e-04, 1.69595283e-03,\n",
      "       1.17469895e-03, 6.73182422e-04, 4.52549788e-04, 3.98804140e-04,\n",
      "       6.37533169e-04, 4.85814900e-04, 9.01177723e-04, 4.54574308e-04,\n",
      "       2.58182928e-03, 7.50793518e-04, 8.27500642e-04, 6.33737612e-04,\n",
      "       3.98981770e-04, 5.29974439e-04]), 'param_criterion': masked_array(data=['gini', 'gini', 'gini', 'gini', 'gini', 'gini', 'gini',\n",
      "                   'gini', 'gini', 'gini', 'gini', 'gini', 'gini', 'gini',\n",
      "                   'gini', 'gini', 'gini', 'gini', 'gini', 'gini', 'gini',\n",
      "                   'gini', 'gini', 'gini', 'gini', 'gini', 'gini',\n",
      "                   'entropy', 'entropy', 'entropy', 'entropy', 'entropy',\n",
      "                   'entropy', 'entropy', 'entropy', 'entropy', 'entropy',\n",
      "                   'entropy', 'entropy', 'entropy', 'entropy', 'entropy',\n",
      "                   'entropy', 'entropy', 'entropy', 'entropy', 'entropy',\n",
      "                   'entropy', 'entropy', 'entropy', 'entropy', 'entropy',\n",
      "                   'entropy', 'entropy'],\n",
      "             mask=[False, False, False, False, False, False, False, False,\n",
      "                   False, False, False, False, False, False, False, False,\n",
      "                   False, False, False, False, False, False, False, False,\n",
      "                   False, False, False, False, False, False, False, False,\n",
      "                   False, False, False, False, False, False, False, False,\n",
      "                   False, False, False, False, False, False, False, False,\n",
      "                   False, False, False, False, False, False],\n",
      "       fill_value='?',\n",
      "            dtype=object), 'param_max_depth': masked_array(data=[1, 1, 1, 2, 2, 2, 3, 3, 3, 4, 4, 4, 5, 5, 5, 6, 6, 6,\n",
      "                   7, 7, 7, 8, 8, 8, 9, 9, 9, 1, 1, 1, 2, 2, 2, 3, 3, 3,\n",
      "                   4, 4, 4, 5, 5, 5, 6, 6, 6, 7, 7, 7, 8, 8, 8, 9, 9, 9],\n",
      "             mask=[False, False, False, False, False, False, False, False,\n",
      "                   False, False, False, False, False, False, False, False,\n",
      "                   False, False, False, False, False, False, False, False,\n",
      "                   False, False, False, False, False, False, False, False,\n",
      "                   False, False, False, False, False, False, False, False,\n",
      "                   False, False, False, False, False, False, False, False,\n",
      "                   False, False, False, False, False, False],\n",
      "       fill_value='?',\n",
      "            dtype=object), 'param_min_samples_leaf': masked_array(data=[10, 15, 20, 10, 15, 20, 10, 15, 20, 10, 15, 20, 10, 15,\n",
      "                   20, 10, 15, 20, 10, 15, 20, 10, 15, 20, 10, 15, 20, 10,\n",
      "                   15, 20, 10, 15, 20, 10, 15, 20, 10, 15, 20, 10, 15, 20,\n",
      "                   10, 15, 20, 10, 15, 20, 10, 15, 20, 10, 15, 20],\n",
      "             mask=[False, False, False, False, False, False, False, False,\n",
      "                   False, False, False, False, False, False, False, False,\n",
      "                   False, False, False, False, False, False, False, False,\n",
      "                   False, False, False, False, False, False, False, False,\n",
      "                   False, False, False, False, False, False, False, False,\n",
      "                   False, False, False, False, False, False, False, False,\n",
      "                   False, False, False, False, False, False],\n",
      "       fill_value='?',\n",
      "            dtype=object), 'params': [{'criterion': 'gini', 'max_depth': 1, 'min_samples_leaf': 10}, {'criterion': 'gini', 'max_depth': 1, 'min_samples_leaf': 15}, {'criterion': 'gini', 'max_depth': 1, 'min_samples_leaf': 20}, {'criterion': 'gini', 'max_depth': 2, 'min_samples_leaf': 10}, {'criterion': 'gini', 'max_depth': 2, 'min_samples_leaf': 15}, {'criterion': 'gini', 'max_depth': 2, 'min_samples_leaf': 20}, {'criterion': 'gini', 'max_depth': 3, 'min_samples_leaf': 10}, {'criterion': 'gini', 'max_depth': 3, 'min_samples_leaf': 15}, {'criterion': 'gini', 'max_depth': 3, 'min_samples_leaf': 20}, {'criterion': 'gini', 'max_depth': 4, 'min_samples_leaf': 10}, {'criterion': 'gini', 'max_depth': 4, 'min_samples_leaf': 15}, {'criterion': 'gini', 'max_depth': 4, 'min_samples_leaf': 20}, {'criterion': 'gini', 'max_depth': 5, 'min_samples_leaf': 10}, {'criterion': 'gini', 'max_depth': 5, 'min_samples_leaf': 15}, {'criterion': 'gini', 'max_depth': 5, 'min_samples_leaf': 20}, {'criterion': 'gini', 'max_depth': 6, 'min_samples_leaf': 10}, {'criterion': 'gini', 'max_depth': 6, 'min_samples_leaf': 15}, {'criterion': 'gini', 'max_depth': 6, 'min_samples_leaf': 20}, {'criterion': 'gini', 'max_depth': 7, 'min_samples_leaf': 10}, {'criterion': 'gini', 'max_depth': 7, 'min_samples_leaf': 15}, {'criterion': 'gini', 'max_depth': 7, 'min_samples_leaf': 20}, {'criterion': 'gini', 'max_depth': 8, 'min_samples_leaf': 10}, {'criterion': 'gini', 'max_depth': 8, 'min_samples_leaf': 15}, {'criterion': 'gini', 'max_depth': 8, 'min_samples_leaf': 20}, {'criterion': 'gini', 'max_depth': 9, 'min_samples_leaf': 10}, {'criterion': 'gini', 'max_depth': 9, 'min_samples_leaf': 15}, {'criterion': 'gini', 'max_depth': 9, 'min_samples_leaf': 20}, {'criterion': 'entropy', 'max_depth': 1, 'min_samples_leaf': 10}, {'criterion': 'entropy', 'max_depth': 1, 'min_samples_leaf': 15}, {'criterion': 'entropy', 'max_depth': 1, 'min_samples_leaf': 20}, {'criterion': 'entropy', 'max_depth': 2, 'min_samples_leaf': 10}, {'criterion': 'entropy', 'max_depth': 2, 'min_samples_leaf': 15}, {'criterion': 'entropy', 'max_depth': 2, 'min_samples_leaf': 20}, {'criterion': 'entropy', 'max_depth': 3, 'min_samples_leaf': 10}, {'criterion': 'entropy', 'max_depth': 3, 'min_samples_leaf': 15}, {'criterion': 'entropy', 'max_depth': 3, 'min_samples_leaf': 20}, {'criterion': 'entropy', 'max_depth': 4, 'min_samples_leaf': 10}, {'criterion': 'entropy', 'max_depth': 4, 'min_samples_leaf': 15}, {'criterion': 'entropy', 'max_depth': 4, 'min_samples_leaf': 20}, {'criterion': 'entropy', 'max_depth': 5, 'min_samples_leaf': 10}, {'criterion': 'entropy', 'max_depth': 5, 'min_samples_leaf': 15}, {'criterion': 'entropy', 'max_depth': 5, 'min_samples_leaf': 20}, {'criterion': 'entropy', 'max_depth': 6, 'min_samples_leaf': 10}, {'criterion': 'entropy', 'max_depth': 6, 'min_samples_leaf': 15}, {'criterion': 'entropy', 'max_depth': 6, 'min_samples_leaf': 20}, {'criterion': 'entropy', 'max_depth': 7, 'min_samples_leaf': 10}, {'criterion': 'entropy', 'max_depth': 7, 'min_samples_leaf': 15}, {'criterion': 'entropy', 'max_depth': 7, 'min_samples_leaf': 20}, {'criterion': 'entropy', 'max_depth': 8, 'min_samples_leaf': 10}, {'criterion': 'entropy', 'max_depth': 8, 'min_samples_leaf': 15}, {'criterion': 'entropy', 'max_depth': 8, 'min_samples_leaf': 20}, {'criterion': 'entropy', 'max_depth': 9, 'min_samples_leaf': 10}, {'criterion': 'entropy', 'max_depth': 9, 'min_samples_leaf': 15}, {'criterion': 'entropy', 'max_depth': 9, 'min_samples_leaf': 20}], 'split0_test_score': array([0.81277622, 0.81277622, 0.81277622, 0.82071113, 0.82071113,\n",
      "       0.82071113, 0.82944958, 0.82944958, 0.82944958, 0.82904781,\n",
      "       0.82904781, 0.82904781, 0.83507433, 0.83507433, 0.83507433,\n",
      "       0.83437123, 0.83437123, 0.83437123, 0.83607875, 0.83577742,\n",
      "       0.83577742, 0.8359783 , 0.83487344, 0.83406991, 0.83467256,\n",
      "       0.83507433, 0.83366814, 0.79188429, 0.79188429, 0.79188429,\n",
      "       0.82071113, 0.82071113, 0.82071113, 0.82754118, 0.82754118,\n",
      "       0.82754118, 0.83336681, 0.83336681, 0.83336681, 0.83336681,\n",
      "       0.83336681, 0.83336681, 0.83577742, 0.83638007, 0.83638007,\n",
      "       0.83848935, 0.83879068, 0.83869024, 0.83547609, 0.834773  ,\n",
      "       0.83346726, 0.84029731, 0.83798714, 0.83648051]), 'split1_test_score': array([0.81287666, 0.81287666, 0.81287666, 0.82081157, 0.82081157,\n",
      "       0.82081157, 0.82623544, 0.82623544, 0.82623544, 0.83065488,\n",
      "       0.83065488, 0.83065488, 0.83437123, 0.83437123, 0.83437123,\n",
      "       0.83427079, 0.83437123, 0.83437123, 0.8366814 , 0.83658096,\n",
      "       0.83658096, 0.83417035, 0.83326637, 0.83427079, 0.83658096,\n",
      "       0.83517477, 0.83678184, 0.79590197, 0.79590197, 0.79590197,\n",
      "       0.82081157, 0.82081157, 0.82081157, 0.8273403 , 0.8273403 ,\n",
      "       0.8273403 , 0.83015267, 0.83015267, 0.83015267, 0.83547609,\n",
      "       0.83547609, 0.83547609, 0.83557654, 0.83537565, 0.83547609,\n",
      "       0.8378867 , 0.83798714, 0.83758538, 0.83537565, 0.83537565,\n",
      "       0.83577742, 0.83648051, 0.83708317, 0.83567698]), 'split2_test_score': array([0.81388108, 0.81388108, 0.81388108, 0.81960627, 0.81960627,\n",
      "       0.81960627, 0.82683809, 0.82683809, 0.82683809, 0.8285456 ,\n",
      "       0.8285456 , 0.8285456 , 0.83417035, 0.83417035, 0.83427079,\n",
      "       0.83346726, 0.83346726, 0.83316593, 0.83557654, 0.83557654,\n",
      "       0.83527521, 0.83587786, 0.83627963, 0.83567698, 0.83577742,\n",
      "       0.83658096, 0.8359783 , 0.79208517, 0.79208517, 0.79208517,\n",
      "       0.81960627, 0.81960627, 0.81960627, 0.82693853, 0.82693853,\n",
      "       0.82693853, 0.8285456 , 0.8285456 , 0.8285456 , 0.83487344,\n",
      "       0.83487344, 0.834773  , 0.83326637, 0.83326637, 0.83336681,\n",
      "       0.83417035, 0.83406991, 0.83417035, 0.83617919, 0.83607875,\n",
      "       0.83567698, 0.83487344, 0.834773  , 0.83457212]), 'split3_test_score': array([0.81788046, 0.81788046, 0.81788046, 0.82320442, 0.82320442,\n",
      "       0.82320442, 0.82862883, 0.82862883, 0.82862883, 0.83405324,\n",
      "       0.83405324, 0.83405324, 0.83867403, 0.83867403, 0.83867403,\n",
      "       0.83967855, 0.83967855, 0.83967855, 0.83907584, 0.83927675,\n",
      "       0.83907584, 0.84088398, 0.8395781 , 0.84008036, 0.84088398,\n",
      "       0.83917629, 0.83927675, 0.79658463, 0.79658463, 0.79658463,\n",
      "       0.82320442, 0.82320442, 0.82320442, 0.8270216 , 0.8270216 ,\n",
      "       0.8270216 , 0.83053742, 0.83053742, 0.83053742, 0.83666499,\n",
      "       0.83666499, 0.83666499, 0.83797087, 0.83797087, 0.83797087,\n",
      "       0.83947765, 0.8393772 , 0.8393772 , 0.83827223, 0.83847313,\n",
      "       0.83867403, 0.84008036, 0.83977901, 0.84048217]), 'split4_test_score': array([0.81617278, 0.81617278, 0.81617278, 0.82169764, 0.82169764,\n",
      "       0.82169764, 0.83103968, 0.83103968, 0.83103968, 0.82672024,\n",
      "       0.82672024, 0.82672024, 0.83576092, 0.83576092, 0.83576092,\n",
      "       0.83576092, 0.83576092, 0.83576092, 0.83666499, 0.83646409,\n",
      "       0.83676544, 0.83837268, 0.83817177, 0.83756906, 0.83797087,\n",
      "       0.83495731, 0.83586138, 0.78774485, 0.78774485, 0.78774485,\n",
      "       0.82169764, 0.82169764, 0.82169764, 0.82913109, 0.82913109,\n",
      "       0.82913109, 0.82832747, 0.82832747, 0.82832747, 0.83646409,\n",
      "       0.83646409, 0.83646409, 0.8372677 , 0.83756906, 0.83746861,\n",
      "       0.83887494, 0.83987946, 0.83977901, 0.8370668 , 0.83776996,\n",
      "       0.83776996, 0.83636364, 0.83666499, 0.83515821]), 'split5_test_score': array([0.81376193, 0.81376193, 0.81376193, 0.82099448, 0.82099448,\n",
      "       0.82099448, 0.82591662, 0.82591662, 0.82591662, 0.83254646,\n",
      "       0.83254646, 0.83254646, 0.83324962, 0.83345053, 0.83345053,\n",
      "       0.83495731, 0.83515821, 0.83515821, 0.83716725, 0.83756906,\n",
      "       0.83766951, 0.83666499, 0.83736816, 0.83666499, 0.83787042,\n",
      "       0.83736816, 0.83756906, 0.78915118, 0.78915118, 0.78915118,\n",
      "       0.82099448, 0.82099448, 0.82099448, 0.82330487, 0.82330487,\n",
      "       0.82330487, 0.83003516, 0.83003516, 0.83003516, 0.83425414,\n",
      "       0.83425414, 0.83415369, 0.83515821, 0.83515821, 0.83505776,\n",
      "       0.83375188, 0.83324962, 0.83345053, 0.83485686, 0.83515821,\n",
      "       0.83596183, 0.83505776, 0.83545957, 0.83445505]), 'split6_test_score': array([0.81476645, 0.81476645, 0.81476645, 0.82420894, 0.82420894,\n",
      "       0.82420894, 0.83214465, 0.83214465, 0.83214465, 0.83314917,\n",
      "       0.83314917, 0.83314917, 0.83877449, 0.83877449, 0.83877449,\n",
      "       0.83847313, 0.83877449, 0.83877449, 0.83987946, 0.83987946,\n",
      "       0.83977901, 0.84218985, 0.84279257, 0.84379709, 0.84319437,\n",
      "       0.84359618, 0.84450025, 0.79889503, 0.79889503, 0.79889503,\n",
      "       0.82420894, 0.82420894, 0.82420894, 0.83425414, 0.83425414,\n",
      "       0.83425414, 0.83636364, 0.83636364, 0.83636364, 0.84218985,\n",
      "       0.84218985, 0.84218985, 0.84088398, 0.84148669, 0.84148669,\n",
      "       0.83987946, 0.83987946, 0.83997991, 0.84058262, 0.84098443,\n",
      "       0.84178805, 0.84229031, 0.84158714, 0.84128579]), 'split7_test_score': array([0.80431944, 0.80431944, 0.80431944, 0.82370668, 0.82370668,\n",
      "       0.82370668, 0.82591662, 0.82591662, 0.82591662, 0.83134103,\n",
      "       0.83134103, 0.83134103, 0.83495731, 0.83495731, 0.83495731,\n",
      "       0.83847313, 0.83847313, 0.83847313, 0.83656454, 0.83656454,\n",
      "       0.83606228, 0.83837268, 0.83857358, 0.83807132, 0.83746861,\n",
      "       0.83666499, 0.83716725, 0.78714214, 0.78714214, 0.78714214,\n",
      "       0.82370668, 0.82370668, 0.82370668, 0.82581617, 0.82581617,\n",
      "       0.82581617, 0.82903064, 0.82903064, 0.82903064, 0.83545957,\n",
      "       0.83545957, 0.83545957, 0.83756906, 0.83756906, 0.83756906,\n",
      "       0.83867403, 0.83867403, 0.83847313, 0.8368659 , 0.83736816,\n",
      "       0.83746861, 0.83897539, 0.83827223, 0.83827223]), 'split8_test_score': array([0.81757911, 0.81757911, 0.81757911, 0.82300352, 0.82300352,\n",
      "       0.82300352, 0.83033651, 0.83033651, 0.83033651, 0.83576092,\n",
      "       0.83576092, 0.83576092, 0.84008036, 0.84008036, 0.84008036,\n",
      "       0.84259166, 0.84259166, 0.84218985, 0.84299347, 0.84309392,\n",
      "       0.84249121, 0.84098443, 0.84128579, 0.84178805, 0.84148669,\n",
      "       0.84279257, 0.84128579, 0.79969864, 0.79969864, 0.79969864,\n",
      "       0.82300352, 0.82300352, 0.82300352, 0.8320442 , 0.8320442 ,\n",
      "       0.8320442 , 0.8343546 , 0.8343546 , 0.8343546 , 0.83977901,\n",
      "       0.83977901, 0.83977901, 0.84028127, 0.84028127, 0.84028127,\n",
      "       0.84138624, 0.84108488, 0.84118533, 0.84178805, 0.84229031,\n",
      "       0.84369663, 0.84379709, 0.84309392, 0.84289302]), 'split9_test_score': array([0.81386238, 0.81386238, 0.81386238, 0.81938724, 0.81938724,\n",
      "       0.81938724, 0.82611753, 0.82611753, 0.82611753, 0.83234555,\n",
      "       0.83234555, 0.83234555, 0.83756906, 0.83756906, 0.83756906,\n",
      "       0.83887494, 0.83867403, 0.83867403, 0.84028127, 0.84008036,\n",
      "       0.84008036, 0.8418885 , 0.84168759, 0.84168759, 0.84048217,\n",
      "       0.84118533, 0.84068307, 0.79598192, 0.79598192, 0.79598192,\n",
      "       0.81938724, 0.81938724, 0.81938724, 0.82732295, 0.82732295,\n",
      "       0.82732295, 0.83335008, 0.83335008, 0.83335008, 0.83485686,\n",
      "       0.83485686, 0.83485686, 0.83736816, 0.83756906, 0.83756906,\n",
      "       0.83696635, 0.83716725, 0.8370668 , 0.84008036, 0.84038172,\n",
      "       0.84008036, 0.83797087, 0.83857358, 0.83917629]), 'mean_test_score': array([0.81378765, 0.81378765, 0.81378765, 0.82173319, 0.82173319,\n",
      "       0.82173319, 0.82826236, 0.82826236, 0.82826236, 0.83141649,\n",
      "       0.83141649, 0.83141649, 0.83626817, 0.83628826, 0.83629831,\n",
      "       0.83709189, 0.83713207, 0.83706176, 0.83809635, 0.83808631,\n",
      "       0.83795572, 0.83853836, 0.8383877 , 0.83836761, 0.8386388 ,\n",
      "       0.83825709, 0.83827718, 0.79350698, 0.79350698, 0.79350698,\n",
      "       0.82173319, 0.82173319, 0.82173319, 0.8280715 , 0.8280715 ,\n",
      "       0.8280715 , 0.83140641, 0.83140641, 0.83140641, 0.83633849,\n",
      "       0.83633849, 0.8363184 , 0.83711196, 0.83726263, 0.83726263,\n",
      "       0.8379557 , 0.83801596, 0.83797579, 0.83765437, 0.83786533,\n",
      "       0.83803611, 0.83861867, 0.83832737, 0.83784524]), 'std_test_score': array([0.00359566, 0.00359566, 0.00359566, 0.00162082, 0.00162082,\n",
      "       0.00162082, 0.00224441, 0.00224441, 0.00224441, 0.00259734,\n",
      "       0.00259734, 0.00259734, 0.00220922, 0.00218243, 0.00217287,\n",
      "       0.00280642, 0.00278598, 0.00275029, 0.00224889, 0.00229774,\n",
      "       0.00220381, 0.0026892 , 0.0029026 , 0.00318202, 0.00260503,\n",
      "       0.00308463, 0.00301495, 0.00431326, 0.00431326, 0.00431326,\n",
      "       0.00162082, 0.00162082, 0.00162082, 0.00294448, 0.00294448,\n",
      "       0.00294448, 0.00261539, 0.00261539, 0.00261539, 0.00255404,\n",
      "       0.00255404, 0.00256828, 0.00219211, 0.00229077, 0.00227368,\n",
      "       0.00228946, 0.00241371, 0.00237127, 0.0022986 , 0.00250097,\n",
      "       0.00294859, 0.00286639, 0.00246581, 0.00286733]), 'rank_test_score': array([49, 49, 49, 43, 43, 43, 37, 37, 37, 31, 31, 31, 30, 29, 28, 23, 21,\n",
      "       24,  9, 10, 14,  3,  4,  5,  1,  8,  7, 52, 52, 52, 43, 43, 43, 40,\n",
      "       40, 40, 34, 34, 34, 25, 25, 27, 22, 19, 20, 15, 12, 13, 18, 16, 11,\n",
      "        2,  6, 17]), 'split0_train_score': array([0.8144804 , 0.8144804 , 0.8144804 , 0.82184671, 0.82184671,\n",
      "       0.82184671, 0.82850988, 0.82850988, 0.82850988, 0.83252787,\n",
      "       0.83252787, 0.83252787, 0.83872228, 0.83872228, 0.83872228,\n",
      "       0.84067547, 0.84065315, 0.84064199, 0.84424702, 0.84416889,\n",
      "       0.84411308, 0.84909093, 0.84873377, 0.84846591, 0.85455986,\n",
      "       0.8532875 , 0.85230532, 0.79464714, 0.79464714, 0.79464714,\n",
      "       0.82184671, 0.82184671, 0.82184671, 0.82808576, 0.82808576,\n",
      "       0.82808576, 0.83170195, 0.83170195, 0.83170195, 0.83873344,\n",
      "       0.83873344, 0.83869996, 0.83983839, 0.83992768, 0.83989419,\n",
      "       0.84400147, 0.84378941, 0.84364432, 0.84751722, 0.84722703,\n",
      "       0.84699264, 0.8504191 , 0.85029633, 0.85002846]), 'split1_train_score': array([0.81446923, 0.81446923, 0.81446923, 0.82183555, 0.82183555,\n",
      "       0.82183555, 0.82886704, 0.82886704, 0.82886704, 0.83266181,\n",
      "       0.83266181, 0.83266181, 0.83798565, 0.83798565, 0.83797449,\n",
      "       0.84098798, 0.84089869, 0.84088753, 0.84622253, 0.84622253,\n",
      "       0.8461444 , 0.85003962, 0.8495597 , 0.84909093, 0.85511792,\n",
      "       0.85415806, 0.85367814, 0.7942007 , 0.7942007 , 0.7942007 ,\n",
      "       0.82183555, 0.82183555, 0.82183555, 0.82934696, 0.82934696,\n",
      "       0.82934696, 0.83156802, 0.83156802, 0.83156802, 0.83866647,\n",
      "       0.83866647, 0.83866647, 0.83989419, 0.84007277, 0.84002813,\n",
      "       0.84275143, 0.84296349, 0.84303046, 0.84733864, 0.84730516,\n",
      "       0.84730516, 0.85237229, 0.85203746, 0.85159101]), 'split2_train_score': array([0.81435762, 0.81435762, 0.81435762, 0.82196949, 0.82196949,\n",
      "       0.82196949, 0.82880007, 0.82880007, 0.82880007, 0.83213724,\n",
      "       0.83213724, 0.83213724, 0.83756153, 0.83756153, 0.83755036,\n",
      "       0.83997232, 0.83997232, 0.83988303, 0.84557519, 0.8454859 ,\n",
      "       0.84529616, 0.85009543, 0.8498164 , 0.8493588 , 0.85617822,\n",
      "       0.8553523 , 0.85442593, 0.79462482, 0.79462482, 0.79462482,\n",
      "       0.82196949, 0.82196949, 0.82196949, 0.82815273, 0.82815273,\n",
      "       0.82815273, 0.83248323, 0.83248323, 0.83248323, 0.83878925,\n",
      "       0.83878925, 0.83876692, 0.84073127, 0.84073127, 0.84068663,\n",
      "       0.84419121, 0.84416889, 0.84412425, 0.8478074 , 0.84788553,\n",
      "       0.84751722, 0.85371162, 0.85304195, 0.85250622]), 'split3_train_score': array([0.81391326, 0.81391326, 0.81391326, 0.82156968, 0.82156968,\n",
      "       0.82156968, 0.82860108, 0.82860108, 0.82860108, 0.83152526,\n",
      "       0.83152526, 0.83152526, 0.83793165, 0.83793165, 0.83792049,\n",
      "       0.83998527, 0.83996295, 0.8398625 , 0.84509699, 0.84504118,\n",
      "       0.84487377, 0.84934932, 0.84926003, 0.84901449, 0.85529811,\n",
      "       0.85479587, 0.85402576, 0.79412487, 0.79412487, 0.79412487,\n",
      "       0.82156968, 0.82156968, 0.82156968, 0.82814349, 0.82814349,\n",
      "       0.82814349, 0.83201634, 0.83201634, 0.83201634, 0.8387464 ,\n",
      "       0.8387464 , 0.83871292, 0.83978437, 0.83972857, 0.83969508,\n",
      "       0.84275319, 0.84265274, 0.84259693, 0.84654791, 0.84688274,\n",
      "       0.84655907, 0.85148106, 0.85120204, 0.85122436]), 'split4_train_score': array([0.81410299, 0.81410299, 0.81410299, 0.82173709, 0.82173709,\n",
      "       0.82173709, 0.82833322, 0.82833322, 0.82833322, 0.83283109,\n",
      "       0.83283109, 0.83283109, 0.83795397, 0.83795397, 0.83795397,\n",
      "       0.84055448, 0.84055448, 0.84055448, 0.84510815, 0.84513047,\n",
      "       0.84510815, 0.8498962 , 0.84948325, 0.84914842, 0.85526463,\n",
      "       0.8547289 , 0.85439407, 0.78835465, 0.78835465, 0.78835465,\n",
      "       0.82173709, 0.82173709, 0.82173709, 0.82963905, 0.82963905,\n",
      "       0.82963905, 0.83149177, 0.83149177, 0.83149177, 0.83845622,\n",
      "       0.83845622, 0.83844505, 0.84034242, 0.84042055, 0.84038706,\n",
      "       0.84379116, 0.84382464, 0.84379116, 0.84817741, 0.84819974,\n",
      "       0.84805464, 0.85287618, 0.85268644, 0.85207259]), 'split5_train_score': array([0.81437086, 0.81437086, 0.81437086, 0.82181522, 0.82181522,\n",
      "       0.82181522, 0.82890243, 0.82890243, 0.82890243, 0.83286457,\n",
      "       0.83286457, 0.83286457, 0.83838925, 0.83836693, 0.83836693,\n",
      "       0.8406326 , 0.84061028, 0.84061028, 0.84515279, 0.84501886,\n",
      "       0.84499654, 0.84952789, 0.8489252 , 0.8486685 , 0.85423782,\n",
      "       0.85349003, 0.85270877, 0.79495078, 0.79495078, 0.79495078,\n",
      "       0.82181522, 0.82181522, 0.82181522, 0.82855644, 0.82855644,\n",
      "       0.82855644, 0.83207214, 0.83207214, 0.83207214, 0.83930445,\n",
      "       0.83930445, 0.83929329, 0.84075537, 0.84075537, 0.84074421,\n",
      "       0.8426639 , 0.84248532, 0.84254113, 0.84598987, 0.845722  ,\n",
      "       0.84564388, 0.84992969, 0.84950557, 0.84934932]), 'split6_train_score': array([0.81425925, 0.81425925, 0.81425925, 0.82145807, 0.82145807,\n",
      "       0.82145807, 0.82821045, 0.82821045, 0.82821045, 0.83311011,\n",
      "       0.83311011, 0.83311011, 0.83806558, 0.83806558, 0.83806558,\n",
      "       0.84104556, 0.84097859, 0.84097859, 0.84470636, 0.84442733,\n",
      "       0.8440925 , 0.84847876, 0.84801   , 0.84776446, 0.85411505,\n",
      "       0.85337842, 0.85267528, 0.79386817, 0.79386817, 0.79386817,\n",
      "       0.82145807, 0.82145807, 0.82145807, 0.8273399 , 0.8273399 ,\n",
      "       0.8273399 , 0.831369  , 0.831369  , 0.831369  , 0.83749637,\n",
      "       0.83749637, 0.83749637, 0.83948302, 0.83950535, 0.83950535,\n",
      "       0.84261925, 0.84238487, 0.84235139, 0.84605683, 0.84616844,\n",
      "       0.84571084, 0.85085605, 0.85074444, 0.85030916]), 'split7_train_score': array([0.81190428, 0.81190428, 0.81190428, 0.82151387, 0.82151387,\n",
      "       0.82151387, 0.82857876, 0.82857876, 0.82857876, 0.83283109,\n",
      "       0.83283109, 0.83283109, 0.83837809, 0.83837809, 0.83837809,\n",
      "       0.84188263, 0.84188263, 0.84168173, 0.84533137, 0.84523092,\n",
      "       0.84535369, 0.84971763, 0.84967298, 0.84972879, 0.85519766,\n",
      "       0.85446104, 0.85419317, 0.795174  , 0.795174  , 0.795174  ,\n",
      "       0.82151387, 0.82151387, 0.82151387, 0.82827742, 0.82827742,\n",
      "       0.82827742, 0.83218375, 0.83218375, 0.83218375, 0.83815487,\n",
      "       0.83815487, 0.83813255, 0.83989598, 0.83985134, 0.83982901,\n",
      "       0.8426639 , 0.84278667, 0.8427197 , 0.84708364, 0.84726222,\n",
      "       0.84736266, 0.85249671, 0.85210607, 0.85149222]), 'split8_train_score': array([0.81394674, 0.81394674, 0.81394674, 0.821592  , 0.821592  ,\n",
      "       0.821592  , 0.82841135, 0.82841135, 0.82841135, 0.83168151,\n",
      "       0.83168151, 0.83168151, 0.83723967, 0.83723967, 0.83722851,\n",
      "       0.84044287, 0.84044287, 0.84036474, 0.84477332, 0.84460591,\n",
      "       0.84439385, 0.84869082, 0.84855689, 0.8485234 , 0.85441639,\n",
      "       0.853557  , 0.85298779, 0.79377888, 0.79377888, 0.79377888,\n",
      "       0.821592  , 0.821592  , 0.821592  , 0.8292819 , 0.8292819 ,\n",
      "       0.8292819 , 0.83054309, 0.83054309, 0.83054309, 0.83728431,\n",
      "       0.83728431, 0.83728431, 0.83975089, 0.83975089, 0.83975089,\n",
      "       0.84277551, 0.84285364, 0.84294292, 0.84678229, 0.84701667,\n",
      "       0.84713945, 0.85134713, 0.8507556 , 0.85054354]), 'split9_train_score': array([0.8143597 , 0.8143597 , 0.8143597 , 0.82199379, 0.82199379,\n",
      "       0.82199379, 0.82863457, 0.82863457, 0.82863457, 0.83265251,\n",
      "       0.83265251, 0.83265251, 0.83859015, 0.83859015, 0.83857899,\n",
      "       0.84104556, 0.84101208, 0.84098975, 0.84534253, 0.84530905,\n",
      "       0.8452644 , 0.84917074, 0.84874662, 0.8485234 , 0.8547289 ,\n",
      "       0.85414853, 0.85318869, 0.79419183, 0.79419183, 0.79419183,\n",
      "       0.82199379, 0.82199379, 0.82199379, 0.82811   , 0.82811   ,\n",
      "       0.82811   , 0.83425969, 0.83425969, 0.83425969, 0.83896962,\n",
      "       0.83896962, 0.8389473 , 0.84042055, 0.8403759 , 0.84035358,\n",
      "       0.84331123, 0.84342284, 0.8433224 , 0.84626889, 0.84642514,\n",
      "       0.8463805 , 0.85183821, 0.85160383, 0.85110159]), 'mean_train_score': array([0.81401643, 0.81401643, 0.81401643, 0.82173315, 0.82173315,\n",
      "       0.82173315, 0.82858489, 0.82858489, 0.82858489, 0.83248231,\n",
      "       0.83248231, 0.83248231, 0.83808178, 0.83807955, 0.83807397,\n",
      "       0.84072247, 0.8406968 , 0.84064546, 0.84515562, 0.8450641 ,\n",
      "       0.84496365, 0.84940573, 0.84907648, 0.84882871, 0.85491146,\n",
      "       0.85413577, 0.85345829, 0.79379158, 0.79379158, 0.79379158,\n",
      "       0.82173315, 0.82173315, 0.82173315, 0.82849337, 0.82849337,\n",
      "       0.82849337, 0.8319689 , 0.8319689 , 0.8319689 , 0.83846014,\n",
      "       0.83846014, 0.83844451, 0.84008965, 0.84011197, 0.84008741,\n",
      "       0.84315223, 0.84313325, 0.84310647, 0.84695701, 0.84700947,\n",
      "       0.84686661, 0.8517328 , 0.85139797, 0.85102185]), 'std_train_score': array([0.00072961, 0.00072961, 0.00072961, 0.00018009, 0.00018009,\n",
      "       0.00018009, 0.00021652, 0.00021652, 0.00021652, 0.00050231,\n",
      "       0.00050231, 0.00050231, 0.0004335 , 0.00043196, 0.0004348 ,\n",
      "       0.00053368, 0.00052757, 0.00051426, 0.00050591, 0.00055059,\n",
      "       0.0005987 , 0.00052518, 0.00054703, 0.00052659, 0.00059106,\n",
      "       0.00066476, 0.00074301, 0.00186242, 0.00186242, 0.00186242,\n",
      "       0.00018009, 0.00018009, 0.00018009, 0.00067792, 0.00067792,\n",
      "       0.00067792, 0.00091781, 0.00091781, 0.00091781, 0.00060701,\n",
      "       0.00060701, 0.00060051, 0.0004175 , 0.00041367, 0.000408  ,\n",
      "       0.00058796, 0.00059185, 0.00056321, 0.0007145 , 0.00071451,\n",
      "       0.00074332, 0.00110383, 0.00104826, 0.00091765])}\n"
     ]
    }
   ],
   "source": [
    "# grid search CV\n",
    "\n",
    "from sklearn.model_selection import GridSearchCV\n",
    "params = {'criterion': ['gini', 'entropy'], 'max_depth': range(1, 10), 'min_samples_leaf': range(5, 45, 10)[1:]}\n",
    "\n",
    "cv_1 = GridSearchCV(param_grid=params, estimator=DecisionTreeClassifier(random_state=rs),return_train_score=True, cv=10)\n",
    "cv_1.fit(X_train, y_train)\n",
    "\n",
    "result_set = cv_1.cv_results_\n",
    "print(result_set)"
   ]
  },
  {
   "cell_type": "code",
   "execution_count": 22,
   "metadata": {},
   "outputs": [
    {
     "name": "stdout",
     "output_type": "stream",
     "text": [
      "Total number of models:  54\n"
     ]
    }
   ],
   "source": [
    "import matplotlib.pyplot as plt\n",
    "train_result = result_set['split0_train_score']\n",
    "test_result = result_set['split0_test_score']\n",
    "print(\"Total number of models: \", len(test_result))"
   ]
  },
  {
   "cell_type": "code",
   "execution_count": 23,
   "metadata": {},
   "outputs": [
    {
     "data": {
      "image/png": "[encoded data removed]",
      "text/plain": [
       "<Figure size 432x288 with 1 Axes>"
      ]
     },
     "metadata": {
      "needs_background": "light"
     },
     "output_type": "display_data"
    }
   ],
   "source": [
    "# plot max depth hyperparameter values vs training and test accuracy score\n",
    "plt.plot(range(0, len(train_result)), train_result, 'b', range(0,len(test_result)), test_result, 'r')\n",
    "plt.xlabel('Combination of hyperparameters\\nBlue = training acc. Red = test acc.')\n",
    "plt.ylabel('score')\n",
    "plt.show()"
   ]
  },
  {
   "cell_type": "code",
   "execution_count": 24,
   "metadata": {},
   "outputs": [
    {
     "data": {
      "image/png": "[encoded data removed]",
      "text/plain": [
       "<Figure size 432x288 with 1 Axes>"
      ]
     },
     "metadata": {
      "needs_background": "light"
     },
     "output_type": "display_data"
    }
   ],
   "source": [
    "result_set['params']\n",
    "dd = pd.DataFrame(result_set['params'])\n",
    "index_ = list(dd.index[(dd['criterion']=='entropy') & (dd['min_samples_leaf']==10)])\n",
    "\n",
    "train_result = result_set['mean_train_score']\n",
    "test_result = result_set['mean_test_score']\n",
    "\n",
    "max_depth_train = []\n",
    "max_depth_test = []\n",
    "index_\n",
    "for i in range(len(index_)):\n",
    "    max_depth_train.append(train_result[index_[i]])\n",
    "    max_depth_test.append(test_result[index_[i]])\n",
    "plt.plot(range(1, len(max_depth_train)+1), max_depth_train, 'b', range(1,len(max_depth_test)+1), max_depth_test, 'r')\n",
    "plt.xlabel('Maximum depth (model complexity)\\nBlue = training acc. Red = test acc.')\n",
    "plt.xticks(np.arange(1, len(max_depth_train)+1, 1))\n",
    "plt.ylabel('score')\n",
    "plt.show()"
   ]
  },
  {
   "cell_type": "code",
   "execution_count": 25,
   "metadata": {},
   "outputs": [
    {
     "name": "stdout",
     "output_type": "stream",
     "text": [
      "{'criterion': 'gini', 'max_depth': 9, 'min_samples_leaf': 10}\n"
     ]
    }
   ],
   "source": [
    "print(cv_1.best_params_)"
   ]
  },
  {
   "cell_type": "code",
   "execution_count": 26,
   "metadata": {},
   "outputs": [
    {
     "name": "stdout",
     "output_type": "stream",
     "text": [
      "Train accuracy: 0.8543790744628489\n",
      "Test accuracy: 0.8399428116064314\n"
     ]
    }
   ],
   "source": [
    "cv_1.fit(X_train, y_train)\n",
    "\n",
    "print(\"Train accuracy:\", cv_1.score(X_train, y_train))\n",
    "print(\"Test accuracy:\", cv_1.score(X_test, y_test))"
   ]
  },
  {
   "cell_type": "code",
   "execution_count": 27,
   "metadata": {},
   "outputs": [
    {
     "name": "stdout",
     "output_type": "stream",
     "text": [
      "Accuracy score on test for DT_default: 0.7875123048797638\n",
      "Accuracy score on test for DT_optimal 0.8399428116064314\n"
     ]
    }
   ],
   "source": [
    "y_pred_dt = model.predict(X_test)\n",
    "y_pred_dt_cv = cv_1.predict(X_test)\n",
    "\n",
    "print(\"Accuracy score on test for DT_default:\", accuracy_score(y_test, y_pred_dt))\n",
    "print(\"Accuracy score on test for DT_optimal\", accuracy_score(y_test, y_pred_dt_cv))"
   ]
  },
  {
   "cell_type": "code",
   "execution_count": 28,
   "metadata": {},
   "outputs": [
    {
     "name": "stdout",
     "output_type": "stream",
     "text": [
      "Probability produced by decision tree for each class vs actual prediction on TargetB (0 = non-donor, 1 = donor). You should be able to see the default threshold of 0.5.\n",
      "(Probs on zero)\t(probs on one)\t(prediction made)\n",
      "0.7036697247706422 \t 0.2963302752293578 \t 0\n",
      "0.8578706957132818 \t 0.1421293042867182 \t 0\n",
      "0.9285714285714286 \t 0.07142857142857142 \t 0\n",
      "0.8578706957132818 \t 0.1421293042867182 \t 0\n",
      "0.8101092896174863 \t 0.18989071038251365 \t 0\n",
      "0.5662878787878788 \t 0.4337121212121212 \t 0\n",
      "0.9900243591230715 \t 0.00997564087692843 \t 0\n",
      "0.9555921052631579 \t 0.044407894736842105 \t 0\n",
      "0.8578706957132818 \t 0.1421293042867182 \t 1\n",
      "0.8135828135828136 \t 0.1864171864171864 \t 1\n",
      "0.9900243591230715 \t 0.00997564087692843 \t 0\n",
      "0.9900243591230715 \t 0.00997564087692843 \t 0\n",
      "0.8578706957132818 \t 0.1421293042867182 \t 0\n",
      "0.8578706957132818 \t 0.1421293042867182 \t 0\n",
      "0.9506683640992998 \t 0.049331635900700194 \t 0\n",
      "0.8578706957132818 \t 0.1421293042867182 \t 0\n",
      "0.9623455579525397 \t 0.03765444204746029 \t 1\n",
      "0.985186873290793 \t 0.014813126709206929 \t 0\n",
      "0.976 \t 0.024 \t 0\n",
      "0.8578706957132818 \t 0.1421293042867182 \t 1\n"
     ]
    }
   ],
   "source": [
    "dt_cv_best = cv_1.best_estimator_\n",
    "# probability prediction from decision tree\n",
    "y_pred_proba_dt = dt_cv_best.predict_proba(X_test)\n",
    "\n",
    "print(\"Probability produced by decision tree for each class vs actual prediction on TargetB (0 = non-donor, 1 = donor). You should be able to see the default threshold of 0.5.\")\n",
    "print(\"(Probs on zero)\\t(probs on one)\\t(prediction made)\")\n",
    "# print top 10\n",
    "for i in range(20):\n",
    "    print(y_pred_proba_dt[i][0], '\\t', y_pred_proba_dt[i][1], '\\t', y_pred[i])"
   ]
  },
  {
   "cell_type": "code",
   "execution_count": 29,
   "metadata": {},
   "outputs": [
    {
     "name": "stdout",
     "output_type": "stream",
     "text": [
      "ROC index on test for DT_default: 0.6994391810027233\n",
      "ROC index on test for DT_optimal: 0.8509135996241951\n"
     ]
    }
   ],
   "source": [
    "from sklearn.metrics import roc_auc_score\n",
    "\n",
    "y_pred_proba_dt = model.predict_proba(X_test)\n",
    "y_pred_proba_dt_cv = dt_cv_best.predict_proba(X_test)\n",
    "\n",
    "roc_index_dt = roc_auc_score(y_test, y_pred_proba_dt[:, 1])\n",
    "roc_index_dt_cv = roc_auc_score(y_test, y_pred_proba_dt_cv[:, 1])\n",
    "\n",
    "print(\"ROC index on test for DT_default:\", roc_index_dt)\n",
    "print(\"ROC index on test for DT_optimal:\", roc_index_dt_cv)"
   ]
  },
  {
   "cell_type": "code",
   "execution_count": 30,
   "metadata": {},
   "outputs": [],
   "source": [
    "from sklearn.metrics import roc_curve\n",
    "\n",
    "fpr_dt, tpr_dt, thresholds_dt = roc_curve(y_test, y_pred_proba_dt[:,1])\n",
    "fpr_dt_cv, tpr_dt_cv, thresholds_dt_cv = roc_curve(y_test, y_pred_proba_dt_cv[:,1])"
   ]
  },
  {
   "cell_type": "code",
   "execution_count": 31,
   "metadata": {},
   "outputs": [
    {
     "data": {
      "image/png": "[encoded data removed]",
      "text/plain": [
       "<Figure size 432x288 with 1 Axes>"
      ]
     },
     "metadata": {
      "needs_background": "light"
     },
     "output_type": "display_data"
    }
   ],
   "source": [
    "import matplotlib.pyplot as plt\n",
    "\n",
    "plt.plot(fpr_dt, tpr_dt, label='ROC Curve for DT_default {:.3f}'.format(roc_index_dt), color='red', lw=0.5)\n",
    "plt.plot(fpr_dt_cv, tpr_dt_cv, label='ROC Curve for DT_optimal {:.3f}'.format(roc_index_dt_cv), color='blue', lw=0.5)\n",
    "\n",
    "# plt.plot(fpr[2], tpr[2], color='darkorange',\n",
    "# lw=lw, label='ROC curve (area = %0.2f)' % roc_auc[2])\n",
    "plt.plot([0, 1], [0, 1], color='navy', lw=0.5, linestyle='--')\n",
    "plt.xlim([0.0, 1.0])\n",
    "plt.ylim([0.0, 1.0])\n",
    "plt.xlabel('False Positive Rate')\n",
    "plt.ylabel('True Positive Rate')\n",
    "plt.title('Receiver operating characteristic example')\n",
    "plt.legend(loc=\"lower right\")\n",
    "plt.show()"
   ]
  },
  {
   "cell_type": "code",
   "execution_count": 32,
   "metadata": {},
   "outputs": [],
   "source": [
    "import pickle\n",
    "dt_best = cv_1\n",
    "with open('CS.pickle', 'wb') as f:\n",
    "    pickle.dump([dt_best,roc_index_dt_cv, fpr_dt_cv, tpr_dt_cv], f)"
   ]
  },
  {
   "cell_type": "code",
   "execution_count": 33,
   "metadata": {},
   "outputs": [
    {
     "name": "stdout",
     "output_type": "stream",
     "text": [
      "dot: graph is too large for cairo-renderer bitmaps. Scaling by 0.424405 to fit\r\n",
      "\n"
     ]
    },
    {
     "data": {
      "text/plain": [
       "True"
      ]
     },
     "execution_count": 33,
     "metadata": {},
     "output_type": "execute_result"
    }
   ],
   "source": [
    "import pydot\n",
    "from io import StringIO\n",
    "from sklearn.tree import export_graphviz\n",
    "\n",
    "# visualize\n",
    "dotfile = StringIO()\n",
    "export_graphviz(dt_cv_best,feature_names=X.columns,filled=True,class_names=['Rain=False','Rain=True'], out_file=dotfile)\n",
    "graph = pydot.graph_from_dot_data(dotfile.getvalue())\n",
    "graph.write_png(\"dt_viz.png\") # saved in the following file - will return True if successful"
   ]
  },
  {
   "cell_type": "code",
   "execution_count": null,
   "metadata": {},
   "outputs": [],
   "source": []
  }
 ],
 "metadata": {
  "kernelspec": {
   "display_name": "Python 3 (ipykernel)",
   "language": "python",
   "name": "python3"
  },
  "language_info": {
   "codemirror_mode": {
    "name": "ipython",
    "version": 3
   },
   "file_extension": ".py",
   "mimetype": "text/x-python",
   "name": "python",
   "nbconvert_exporter": "python",
   "pygments_lexer": "ipython3",
   "version": "3.8.8"
  }
 },
 "nbformat": 4,
 "nbformat_minor": 2
}
