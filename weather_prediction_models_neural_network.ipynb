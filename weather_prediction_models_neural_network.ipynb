{
 "cells": [
  {
   "cell_type": "code",
   "execution_count": 1,
   "metadata": {},
   "outputs": [],
   "source": [
    "import pandas as pd\n",
    "import numpy as np\n",
    "from sklearn.model_selection import train_test_split\n",
    "from sklearn.metrics import classification_report, accuracy_score\n",
    "from sklearn.model_selection import GridSearchCV\n",
    "import matplotlib.pyplot as plt\n",
    "\n",
    "\n",
    "# set the random seed - consistent\n",
    "rs = 10\n",
    "\n",
    "# load the data\n",
    "#importing the data file and displaying the data types\n",
    "df = pd.read_csv('D3.csv')\n",
    "\n",
    "df[['Location', 'WindGustDir', 'WindDir9am', \n",
    "    'WindDir3pm', 'Cloud9am', 'Cloud3pm']] = df[['Location', 'WindGustDir', 'WindDir9am', \n",
    "                                                 'WindDir3pm', 'Cloud9am', 'Cloud3pm']].astype(str)\n",
    "\n",
    "# drop Year\n",
    "df.drop(['Year', 'Location', 'Month'], axis=1, inplace=True)\n",
    "\n",
    "# one-hot encoding\n",
    "df = pd.get_dummies(df)\n",
    "\n",
    "# target/input split\n",
    "y = df['RainTomorrow']\n",
    "X = df.drop(['RainTomorrow'], axis=1)\n",
    "\n",
    "#convert X from pandas Dataframe to numpy matrix for sklearn\n",
    "X_mat = X.to_numpy()\n",
    "\n",
    "\n",
    "# setting random state\n",
    "rs = 10\n",
    "X_train, X_test, y_train, y_test = train_test_split(X_mat, y, test_size=0.3, stratify=y, random_state=rs)"
   ]
  },
  {
   "cell_type": "code",
   "execution_count": 2,
   "metadata": {},
   "outputs": [],
   "source": [
    "from sklearn.preprocessing import StandardScaler\n",
    "\n",
    "scaler = StandardScaler()\n",
    "X_train = scaler.fit_transform(X_train, y_train)\n",
    "X_test = scaler.transform(X_test)"
   ]
  },
  {
   "cell_type": "code",
   "execution_count": 3,
   "metadata": {},
   "outputs": [],
   "source": [
    "from sklearn.neural_network import MLPClassifier"
   ]
  },
  {
   "cell_type": "code",
   "execution_count": 4,
   "metadata": {},
   "outputs": [
    {
     "name": "stderr",
     "output_type": "stream",
     "text": [
      "C:\\Users\\jbrai\\Anaconda3\\lib\\site-packages\\sklearn\\neural_network\\_multilayer_perceptron.py:617: ConvergenceWarning: Stochastic Optimizer: Maximum iterations (200) reached and the optimization hasn't converged yet.\n",
      "  % self.max_iter, ConvergenceWarning)\n"
     ]
    },
    {
     "name": "stdout",
     "output_type": "stream",
     "text": [
      "Train accuracy: 0.8872861691762177\n",
      "Test accuracy: 0.835700557821216\n",
      "              precision    recall  f1-score   support\n",
      "\n",
      "           0       0.87      0.93      0.90     33101\n",
      "           1       0.67      0.53      0.59      9565\n",
      "\n",
      "    accuracy                           0.84     42666\n",
      "   macro avg       0.77      0.73      0.74     42666\n",
      "weighted avg       0.83      0.84      0.83     42666\n",
      "\n",
      "MLPClassifier(random_state=10)\n"
     ]
    }
   ],
   "source": [
    "model_1 = MLPClassifier(random_state=rs)\n",
    "model_1.fit(X_train, y_train)\n",
    "\n",
    "print(\"Train accuracy:\", model_1.score(X_train, y_train))\n",
    "print(\"Test accuracy:\", model_1.score(X_test, y_test))\n",
    "\n",
    "y_pred = model_1.predict(X_test)\n",
    "print(classification_report(y_test, y_pred))\n",
    "\n",
    "print(model_1)"
   ]
  },
  {
   "cell_type": "code",
   "execution_count": 5,
   "metadata": {},
   "outputs": [
    {
     "name": "stdout",
     "output_type": "stream",
     "text": [
      "Train accuracy: 0.888270569445421\n",
      "Test accuracy: 0.8322317536211503\n",
      "              precision    recall  f1-score   support\n",
      "\n",
      "           0       0.88      0.90      0.89     33101\n",
      "           1       0.64      0.59      0.61      9565\n",
      "\n",
      "    accuracy                           0.83     42666\n",
      "   macro avg       0.76      0.75      0.75     42666\n",
      "weighted avg       0.83      0.83      0.83     42666\n",
      "\n",
      "MLPClassifier(max_iter=500, random_state=10)\n"
     ]
    }
   ],
   "source": [
    "# model_2 500 Iteration\n",
    "model_2_low = MLPClassifier(max_iter=500, random_state=rs)\n",
    "model_2_low.fit(X_train, y_train)\n",
    "\n",
    "print(\"Train accuracy:\", model_2_low.score(X_train, y_train))\n",
    "print(\"Test accuracy:\", model_2_low.score(X_test, y_test))\n",
    "\n",
    "y_pred = model_2_low.predict(X_test)\n",
    "print(classification_report(y_test, y_pred))\n",
    "\n",
    "print(model_2_low)"
   ]
  },
  {
   "cell_type": "code",
   "execution_count": 6,
   "metadata": {},
   "outputs": [
    {
     "name": "stdout",
     "output_type": "stream",
     "text": [
      "Train accuracy: 0.888270569445421\n",
      "Test accuracy: 0.8322317536211503\n",
      "              precision    recall  f1-score   support\n",
      "\n",
      "           0       0.88      0.90      0.89     33101\n",
      "           1       0.64      0.59      0.61      9565\n",
      "\n",
      "    accuracy                           0.83     42666\n",
      "   macro avg       0.76      0.75      0.75     42666\n",
      "weighted avg       0.83      0.83      0.83     42666\n",
      "\n",
      "MLPClassifier(max_iter=300, random_state=10)\n"
     ]
    }
   ],
   "source": [
    "# model_2 500 Iteration\n",
    "model_2 = MLPClassifier(max_iter=300, random_state=rs)\n",
    "model_2.fit(X_train, y_train)\n",
    "\n",
    "print(\"Train accuracy:\", model_2.score(X_train, y_train))\n",
    "print(\"Test accuracy:\", model_2.score(X_test, y_test))\n",
    "\n",
    "y_pred = model_2.predict(X_test)\n",
    "print(classification_report(y_test, y_pred))\n",
    "\n",
    "print(model_2)"
   ]
  },
  {
   "cell_type": "code",
   "execution_count": 7,
   "metadata": {},
   "outputs": [
    {
     "name": "stdout",
     "output_type": "stream",
     "text": [
      "{'activation': 'relu', 'alpha': 0.0001, 'batch_size': 'auto', 'beta_1': 0.9, 'beta_2': 0.999, 'early_stopping': False, 'epsilon': 1e-08, 'hidden_layer_sizes': (100,), 'learning_rate': 'constant', 'learning_rate_init': 0.001, 'max_fun': 15000, 'max_iter': 200, 'momentum': 0.9, 'n_iter_no_change': 10, 'nesterovs_momentum': True, 'power_t': 0.5, 'random_state': 10, 'shuffle': True, 'solver': 'adam', 'tol': 0.0001, 'validation_fraction': 0.1, 'verbose': False, 'warm_start': False}\n"
     ]
    }
   ],
   "source": [
    "#Parameters of Default Model\n",
    "print(model_1.get_params())"
   ]
  },
  {
   "cell_type": "code",
   "execution_count": 8,
   "metadata": {},
   "outputs": [
    {
     "name": "stdout",
     "output_type": "stream",
     "text": [
      "(99553, 80)\n"
     ]
    }
   ],
   "source": [
    "#Get Number of Layers\n",
    "print(X_train.shape)"
   ]
  },
  {
   "cell_type": "code",
   "execution_count": 9,
   "metadata": {},
   "outputs": [
    {
     "data": {
      "text/plain": [
       "GridSearchCV(cv=10, estimator=MLPClassifier(random_state=10), n_jobs=-1,\n",
       "             param_grid={'hidden_layer_sizes': [(5,), (10,), (15,), (20,),\n",
       "                                                (25,), (30,), (35,), (40,),\n",
       "                                                (45,), (50,), (55,), (60,),\n",
       "                                                (65,), (70,), (75,), (80,)]},\n",
       "             return_train_score=True)"
      ]
     },
     "execution_count": 9,
     "metadata": {},
     "output_type": "execute_result"
    }
   ],
   "source": [
    "# these params nchanged based on 80 features seen above\n",
    "# start tuning with one hidden layer of 5 to 80 neurons, increment of 5\n",
    "params = {'hidden_layer_sizes': [(x,) for x in range(5, 81, 5)]}\n",
    "\n",
    "cv_1 = GridSearchCV(param_grid=params, estimator=MLPClassifier(random_state=rs),return_train_score=True, cv=10, n_jobs=-1)\n",
    "cv_1.fit(X_train, y_train)"
   ]
  },
  {
   "cell_type": "code",
   "execution_count": 10,
   "metadata": {},
   "outputs": [
    {
     "name": "stdout",
     "output_type": "stream",
     "text": [
      "{'mean_fit_time': array([ 31.53658662,  44.08159747,  91.51125269, 109.31030357,\n",
      "       153.79319456, 181.47149506, 203.90680494, 223.75129881,\n",
      "       254.46644485, 259.25341578, 287.28819933, 306.3980967 ,\n",
      "       339.13054338, 339.78326025, 345.20791481, 286.63804448]), 'std_fit_time': array([ 5.33576093, 10.77367279, 16.96455555, 37.13956364, 24.45389445,\n",
      "       28.29636827, 29.13178011, 32.38614796, 28.2513565 , 25.11770804,\n",
      "       33.17618204, 16.58759276, 17.54365627, 14.18106914, 16.0461718 ,\n",
      "       23.5723161 ]), 'mean_score_time': array([0.01170361, 0.01520553, 0.03580983, 0.04101045, 0.04191108,\n",
      "       0.04090943, 0.0426101 , 0.05111244, 0.05691078, 0.05561247,\n",
      "       0.06871517, 0.06051333, 0.07761781, 0.07891612, 0.06531882,\n",
      "       0.02840638]), 'std_score_time': array([0.0029022 , 0.0034315 , 0.0094241 , 0.0077086 , 0.00918405,\n",
      "       0.00620772, 0.00332741, 0.0118903 , 0.012107  , 0.0087789 ,\n",
      "       0.01432185, 0.01551176, 0.01521781, 0.01273286, 0.01061444,\n",
      "       0.00899358]), 'param_hidden_layer_sizes': masked_array(data=[(5,), (10,), (15,), (20,), (25,), (30,), (35,), (40,),\n",
      "                   (45,), (50,), (55,), (60,), (65,), (70,), (75,), (80,)],\n",
      "             mask=[False, False, False, False, False, False, False, False,\n",
      "                   False, False, False, False, False, False, False, False],\n",
      "       fill_value='?',\n",
      "            dtype=object), 'params': [{'hidden_layer_sizes': (5,)}, {'hidden_layer_sizes': (10,)}, {'hidden_layer_sizes': (15,)}, {'hidden_layer_sizes': (20,)}, {'hidden_layer_sizes': (25,)}, {'hidden_layer_sizes': (30,)}, {'hidden_layer_sizes': (35,)}, {'hidden_layer_sizes': (40,)}, {'hidden_layer_sizes': (45,)}, {'hidden_layer_sizes': (50,)}, {'hidden_layer_sizes': (55,)}, {'hidden_layer_sizes': (60,)}, {'hidden_layer_sizes': (65,)}, {'hidden_layer_sizes': (70,)}, {'hidden_layer_sizes': (75,)}, {'hidden_layer_sizes': (80,)}], 'split0_test_score': array([0.84692648, 0.84732824, 0.84933708, 0.84682603, 0.84762957,\n",
      "       0.8472278 , 0.84391322, 0.84059863, 0.84250703, 0.84300924,\n",
      "       0.84190438, 0.84250703, 0.84039775, 0.83718361, 0.83627963,\n",
      "       0.83638007]), 'split1_test_score': array([0.84742869, 0.84903576, 0.85094415, 0.85064283, 0.84973885,\n",
      "       0.8491362 , 0.84371233, 0.84833266, 0.84160305, 0.84702692,\n",
      "       0.84371233, 0.84160305, 0.84270791, 0.84250703, 0.83537565,\n",
      "       0.83507433]), 'split2_test_score': array([0.8448172 , 0.84893532, 0.84572117, 0.8472278 , 0.84843311,\n",
      "       0.84391322, 0.84702692, 0.84300924, 0.84391322, 0.84089996,\n",
      "       0.84200482, 0.84200482, 0.83989554, 0.8397951 , 0.83487344,\n",
      "       0.8385898 ]), 'split3_test_score': array([0.8467102 , 0.84912104, 0.84731291, 0.84570568, 0.8469111 ,\n",
      "       0.84279257, 0.84630839, 0.8443998 , 0.84379709, 0.83917629,\n",
      "       0.84108488, 0.83787042, 0.83867403, 0.83716725, 0.83505776,\n",
      "       0.83445505]), 'split4_test_score': array([0.84470116, 0.84610748, 0.84610748, 0.84610748, 0.84249121,\n",
      "       0.84610748, 0.84269211, 0.83927675, 0.84259166, 0.83977901,\n",
      "       0.83666499, 0.83787042, 0.83465595, 0.83787042, 0.83465595,\n",
      "       0.83184329]), 'split5_test_score': array([0.84399799, 0.84600703, 0.84791562, 0.84269211, 0.84470116,\n",
      "       0.84289302, 0.84480161, 0.83827223, 0.84158714, 0.84018081,\n",
      "       0.83606228, 0.8393772 , 0.84088398, 0.83485686, 0.83636364,\n",
      "       0.82993471]), 'split6_test_score': array([0.84932195, 0.85273732, 0.84952285, 0.85052737, 0.85233551,\n",
      "       0.8494224 , 0.85464591, 0.85263687, 0.84841788, 0.84701155,\n",
      "       0.84982421, 0.84600703, 0.84560522, 0.84560522, 0.83505776,\n",
      "       0.83987946]), 'split7_test_score': array([0.84058262, 0.84580613, 0.84349573, 0.84520342, 0.84299347,\n",
      "       0.84409844, 0.84510296, 0.84178805, 0.84048217, 0.83847313,\n",
      "       0.84038172, 0.8370668 , 0.83766951, 0.83324962, 0.83746861,\n",
      "       0.83515821]), 'split8_test_score': array([0.85113009, 0.85313913, 0.85323958, 0.85494726, 0.85092918,\n",
      "       0.8519337 , 0.84801607, 0.84791562, 0.847112  , 0.84681065,\n",
      "       0.8446007 , 0.84309392, 0.84560522, 0.84540432, 0.83776996,\n",
      "       0.83495731]), 'split9_test_score': array([0.84892014, 0.85032647, 0.85113009, 0.8496233 , 0.85223506,\n",
      "       0.84791562, 0.84620794, 0.84861878, 0.84821698, 0.84289302,\n",
      "       0.84399799, 0.84249121, 0.84229031, 0.8441989 , 0.8395781 ,\n",
      "       0.83294827]), 'mean_test_score': array([0.84645365, 0.84885439, 0.84847267, 0.84795033, 0.84783982,\n",
      "       0.84654405, 0.84624275, 0.84448486, 0.84402282, 0.84252606,\n",
      "       0.84202383, 0.84098919, 0.84083854, 0.83978383, 0.83624805,\n",
      "       0.83492205]), 'std_test_score': array([0.00289255, 0.00250973, 0.00278089, 0.00333259, 0.00340418,\n",
      "       0.00294784, 0.00319673, 0.00447663, 0.00274196, 0.00320064,\n",
      "       0.00376941, 0.00270211, 0.00324164, 0.0042027 , 0.00151422,\n",
      "       0.00280536]), 'rank_test_score': array([ 6,  1,  2,  3,  4,  5,  7,  8,  9, 10, 11, 12, 13, 14, 15, 16]), 'split0_train_score': array([0.84932531, 0.85486121, 0.85691485, 0.8588792 , 0.86182573,\n",
      "       0.86296416, 0.86655803, 0.86891302, 0.86992868, 0.87137962,\n",
      "       0.87366765, 0.8733663 , 0.87591102, 0.87968347, 0.88043126,\n",
      "       0.88257419]), 'split1_train_score': array([0.84925835, 0.85375626, 0.85755103, 0.85933681, 0.86300881,\n",
      "       0.86406911, 0.86589953, 0.86841077, 0.86966081, 0.87096666,\n",
      "       0.87343326, 0.87491769, 0.87615657, 0.87826601, 0.88073261,\n",
      "       0.88067681]), 'split2_train_score': array([0.84938112, 0.8533433 , 0.85806444, 0.85868947, 0.8626963 ,\n",
      "       0.86413608, 0.86554237, 0.86824336, 0.86927018, 0.87118988,\n",
      "       0.87307611, 0.87527484, 0.87692668, 0.878958  , 0.8799625 ,\n",
      "       0.88266348]), 'split3_train_score': array([0.84997433, 0.85349003, 0.85736289, 0.85831157, 0.86193888,\n",
      "       0.86297685, 0.86631398, 0.86916003, 0.8693386 , 0.87092346,\n",
      "       0.87388111, 0.87587893, 0.87666019, 0.87955088, 0.88018706,\n",
      "       0.88255318]), 'split4_train_score': array([0.84936048, 0.85391415, 0.85784281, 0.85856827, 0.86218442,\n",
      "       0.86285408, 0.86618005, 0.86794348, 0.87084533, 0.87082301,\n",
      "       0.87344584, 0.87484096, 0.87811112, 0.88051073, 0.88155986,\n",
      "       0.88230764]), 'split5_train_score': array([0.84959486, 0.85470658, 0.85804371, 0.85912632, 0.86234068,\n",
      "       0.86494118, 0.86658184, 0.86832295, 0.86938325, 0.87095694,\n",
      "       0.87363557, 0.87423826, 0.8758566 , 0.87932766, 0.88125851,\n",
      "       0.88273176]), 'split6_train_score': array([0.84885823, 0.85304359, 0.85677136, 0.85867988, 0.86061073,\n",
      "       0.86360187, 0.86553271, 0.86718454, 0.86917119, 0.87038773,\n",
      "       0.87333423, 0.87433871, 0.87545481, 0.87681645, 0.87948392,\n",
      "       0.88183888]), 'split7_train_score': array([0.84977343, 0.85364629, 0.85769772, 0.85943883, 0.86284292,\n",
      "       0.86267551, 0.86632514, 0.86780955, 0.87075604, 0.87166008,\n",
      "       0.87360209, 0.87545481, 0.87589009, 0.87883658, 0.88217371,\n",
      "       0.88341258]), 'split8_train_score': array([0.84932699, 0.85319985, 0.85682716, 0.85900355, 0.86251925,\n",
      "       0.86402598, 0.86577825, 0.8671957 , 0.86968459, 0.87186098,\n",
      "       0.87321146, 0.87543249, 0.87679412, 0.87890355, 0.88073394,\n",
      "       0.88295498]), 'split9_train_score': array([0.84905913, 0.85342307, 0.85596777, 0.85816648, 0.86205049,\n",
      "       0.86292105, 0.86711757, 0.86744124, 0.86976272, 0.87244135,\n",
      "       0.8718833 , 0.87507534, 0.87639233, 0.87785442, 0.88016474,\n",
      "       0.88170495]), 'mean_train_score': array([0.84939122, 0.85373843, 0.85730437, 0.85882004, 0.86220182,\n",
      "       0.86351659, 0.86618295, 0.86806246, 0.86978014, 0.87125897,\n",
      "       0.87331706, 0.87488183, 0.87641535, 0.87887077, 0.88066881,\n",
      "       0.88234184]), 'std_train_score': array([0.00030807, 0.00057687, 0.00063901, 0.00039582, 0.00064747,\n",
      "       0.00071293, 0.00047833, 0.00064312, 0.00055822, 0.00056383,\n",
      "       0.00052716, 0.00069474, 0.00071924, 0.00098235, 0.00076552,\n",
      "       0.00072861])}\n"
     ]
    }
   ],
   "source": [
    "result_set = cv_1.cv_results_\n",
    "print(result_set)"
   ]
  },
  {
   "cell_type": "code",
   "execution_count": 11,
   "metadata": {},
   "outputs": [
    {
     "name": "stdout",
     "output_type": "stream",
     "text": [
      "Total number of models:  16\n"
     ]
    },
    {
     "data": {
      "image/png": "[encoded data removed]",
      "text/plain": [
       "<Figure size 432x288 with 1 Axes>"
      ]
     },
     "metadata": {
      "needs_background": "light"
     },
     "output_type": "display_data"
    }
   ],
   "source": [
    "train_result = result_set['mean_train_score']\n",
    "test_result = result_set['mean_test_score']\n",
    "print(\"Total number of models: \", len(test_result))\n",
    "# plot hidden layers hyperparameter values vs training and test accuracy score\n",
    "plt.plot(range(0, len(train_result)), train_result, 'b', range(0,len(test_result)), test_result, 'r')\n",
    "plt.xlabel('Hyperparameter Hidden_layers\\nBlue = training acc. Red = test acc.')\n",
    "plt.xticks(range(0, len(train_result)),range(5, 81, 5))\n",
    "plt.ylabel('score')\n",
    "plt.show()"
   ]
  },
  {
   "cell_type": "code",
   "execution_count": 12,
   "metadata": {},
   "outputs": [
    {
     "name": "stdout",
     "output_type": "stream",
     "text": [
      "Train accuracy: 0.8533042700872902\n",
      "Test accuracy: 0.8510289223269114\n",
      "              precision    recall  f1-score   support\n",
      "\n",
      "           0       0.88      0.94      0.91     33101\n",
      "           1       0.72      0.55      0.62      9565\n",
      "\n",
      "    accuracy                           0.85     42666\n",
      "   macro avg       0.80      0.74      0.76     42666\n",
      "weighted avg       0.84      0.85      0.84     42666\n",
      "\n",
      "{'hidden_layer_sizes': (10,)}\n"
     ]
    }
   ],
   "source": [
    "print(\"Train accuracy:\", cv_1.score(X_train, y_train))\n",
    "print(\"Test accuracy:\", cv_1.score(X_test, y_test))\n",
    "\n",
    "y_pred = cv_1.predict(X_test)\n",
    "print(classification_report(y_test, y_pred))\n",
    "\n",
    "print(cv_1.best_params_)"
   ]
  },
  {
   "cell_type": "code",
   "execution_count": 13,
   "metadata": {},
   "outputs": [
    {
     "name": "stdout",
     "output_type": "stream",
     "text": [
      "Train accuracy: 0.8533042700872902\n",
      "Test accuracy: 0.8510289223269114\n",
      "              precision    recall  f1-score   support\n",
      "\n",
      "           0       0.88      0.94      0.91     33101\n",
      "           1       0.72      0.55      0.62      9565\n",
      "\n",
      "    accuracy                           0.85     42666\n",
      "   macro avg       0.80      0.74      0.76     42666\n",
      "weighted avg       0.84      0.85      0.84     42666\n",
      "\n",
      "{'hidden_layer_sizes': (10,)}\n"
     ]
    }
   ],
   "source": [
    "print(\"Train accuracy:\", cv_1.score(X_train, y_train))\n",
    "print(\"Test accuracy:\", cv_1.score(X_test, y_test))\n",
    "\n",
    "y_pred = cv_1.predict(X_test)\n",
    "print(classification_report(y_test, y_pred))\n",
    "\n",
    "print(cv_1.best_params_)"
   ]
  },
  {
   "cell_type": "code",
   "execution_count": 14,
   "metadata": {},
   "outputs": [
    {
     "name": "stdout",
     "output_type": "stream",
     "text": [
      "Train accuracy: 0.8567094914266773\n",
      "Test accuracy: 0.8503492242066282\n",
      "              precision    recall  f1-score   support\n",
      "\n",
      "           0       0.88      0.94      0.91     33101\n",
      "           1       0.72      0.54      0.62      9565\n",
      "\n",
      "    accuracy                           0.85     42666\n",
      "   macro avg       0.80      0.74      0.76     42666\n",
      "weighted avg       0.84      0.85      0.84     42666\n",
      "\n",
      "{'hidden_layer_sizes': (13,)}\n"
     ]
    }
   ],
   "source": [
    "# new parameters\n",
    "params = {'hidden_layer_sizes': [(8,),(10,),(11,),(13,)]}\n",
    "\n",
    "cv_2 = GridSearchCV(param_grid=params, estimator=MLPClassifier(random_state=rs,), cv=10, n_jobs=-1)\n",
    "cv_2.fit(X_train, y_train)\n",
    "\n",
    "print(\"Train accuracy:\", cv_2.score(X_train, y_train))\n",
    "print(\"Test accuracy:\", cv_2.score(X_test, y_test))\n",
    "\n",
    "y_pred = cv_2.predict(X_test)\n",
    "print(classification_report(y_test, y_pred))\n",
    "\n",
    "print(cv_2.best_params_)"
   ]
  },
  {
   "cell_type": "code",
   "execution_count": 15,
   "metadata": {},
   "outputs": [
    {
     "name": "stdout",
     "output_type": "stream",
     "text": [
      "Train accuracy: 0.8567094914266773\n",
      "Test accuracy: 0.8503492242066282\n",
      "              precision    recall  f1-score   support\n",
      "\n",
      "           0       0.88      0.94      0.91     33101\n",
      "           1       0.72      0.54      0.62      9565\n",
      "\n",
      "    accuracy                           0.85     42666\n",
      "   macro avg       0.80      0.74      0.76     42666\n",
      "weighted avg       0.84      0.85      0.84     42666\n",
      "\n",
      "{'hidden_layer_sizes': (13,)}\n"
     ]
    }
   ],
   "source": [
    "# new parameters again as top model in first instance\n",
    "params = {'hidden_layer_sizes': [(10,),(11,),(13,),(16,),(19,)]}\n",
    "\n",
    "cv_2_new = GridSearchCV(param_grid=params, estimator=MLPClassifier(random_state=rs), cv=10, n_jobs=-1)\n",
    "cv_2_new.fit(X_train, y_train)\n",
    "\n",
    "print(\"Train accuracy:\", cv_2_new.score(X_train, y_train))\n",
    "print(\"Test accuracy:\", cv_2_new.score(X_test, y_test))\n",
    "\n",
    "y_pred = cv_2_new.predict(X_test)\n",
    "print(classification_report(y_test, y_pred))\n",
    "\n",
    "print(cv_2_new.best_params_)"
   ]
  },
  {
   "cell_type": "code",
   "execution_count": 16,
   "metadata": {},
   "outputs": [
    {
     "name": "stdout",
     "output_type": "stream",
     "text": [
      "Train accuracy: 0.8581760469297761\n",
      "Test accuracy: 0.8504429756714948\n",
      "              precision    recall  f1-score   support\n",
      "\n",
      "           0       0.87      0.94      0.91     33101\n",
      "           1       0.73      0.53      0.61      9565\n",
      "\n",
      "    accuracy                           0.85     42666\n",
      "   macro avg       0.80      0.74      0.76     42666\n",
      "weighted avg       0.84      0.85      0.84     42666\n",
      "\n",
      "{'alpha': 0.01, 'hidden_layer_sizes': (19,)}\n"
     ]
    }
   ],
   "source": [
    "# Tuning alpha, the second hyperparameter\n",
    "params = {'hidden_layer_sizes': [(10,),(13,),(16,),(19,)], 'alpha': [0.01, 0.001, 0.0001, 0.00001]}\n",
    "\n",
    "cv_3 = GridSearchCV(param_grid=params, estimator=MLPClassifier(random_state=rs), cv=10, n_jobs=-1)\n",
    "cv_3.fit(X_train, y_train)\n",
    "\n",
    "print(\"Train accuracy:\", cv_3.score(X_train, y_train))\n",
    "print(\"Test accuracy:\", cv_3.score(X_test, y_test))\n",
    "\n",
    "y_pred = cv_3.predict(X_test)\n",
    "print(classification_report(y_test, y_pred))\n",
    "\n",
    "print(cv_3.best_params_)"
   ]
  },
  {
   "cell_type": "code",
   "execution_count": 17,
   "metadata": {},
   "outputs": [
    {
     "name": "stdout",
     "output_type": "stream",
     "text": [
      "Train accuracy: 0.8581760469297761\n",
      "Test accuracy: 0.8504429756714948\n",
      "              precision    recall  f1-score   support\n",
      "\n",
      "           0       0.87      0.94      0.91     33101\n",
      "           1       0.73      0.53      0.61      9565\n",
      "\n",
      "    accuracy                           0.85     42666\n",
      "   macro avg       0.80      0.74      0.76     42666\n",
      "weighted avg       0.84      0.85      0.84     42666\n",
      "\n",
      "{'alpha': 0.01, 'hidden_layer_sizes': (19,)}\n"
     ]
    }
   ],
   "source": [
    "# Tuning alpha, the second hyperparameter as top of range\n",
    "params = {'hidden_layer_sizes': [(16,),(19,),(21,),(23,),(25,)], 'alpha': [0.01, 0.001, 0.0001, 0.00001]}\n",
    "\n",
    "cv_3_new = GridSearchCV(param_grid=params, estimator=MLPClassifier(random_state=rs), cv=10, n_jobs=-1)\n",
    "cv_3_new.fit(X_train, y_train)\n",
    "\n",
    "print(\"Train accuracy:\", cv_3_new.score(X_train, y_train))\n",
    "print(\"Test accuracy:\", cv_3_new.score(X_test, y_test))\n",
    "\n",
    "y_pred = cv_3_new.predict(X_test)\n",
    "print(classification_report(y_test, y_pred))\n",
    "\n",
    "print(cv_3_new.best_params_)"
   ]
  },
  {
   "cell_type": "code",
   "execution_count": 18,
   "metadata": {},
   "outputs": [],
   "source": [
    "from sklearn.feature_selection import RFECV\n",
    "from sklearn.linear_model import LogisticRegression"
   ]
  },
  {
   "cell_type": "code",
   "execution_count": 19,
   "metadata": {},
   "outputs": [
    {
     "name": "stdout",
     "output_type": "stream",
     "text": [
      "{'cv': 10, 'error_score': nan, 'estimator__activation': 'relu', 'estimator__alpha': 0.0001, 'estimator__batch_size': 'auto', 'estimator__beta_1': 0.9, 'estimator__beta_2': 0.999, 'estimator__early_stopping': False, 'estimator__epsilon': 1e-08, 'estimator__hidden_layer_sizes': (100,), 'estimator__learning_rate': 'constant', 'estimator__learning_rate_init': 0.001, 'estimator__max_fun': 15000, 'estimator__max_iter': 200, 'estimator__momentum': 0.9, 'estimator__n_iter_no_change': 10, 'estimator__nesterovs_momentum': True, 'estimator__power_t': 0.5, 'estimator__random_state': 10, 'estimator__shuffle': True, 'estimator__solver': 'adam', 'estimator__tol': 0.0001, 'estimator__validation_fraction': 0.1, 'estimator__verbose': False, 'estimator__warm_start': False, 'estimator': MLPClassifier(random_state=10), 'n_jobs': -1, 'param_grid': {'hidden_layer_sizes': [(10,), (13,), (16,), (19,)], 'alpha': [0.01, 0.001, 0.0001, 1e-05]}, 'pre_dispatch': '2*n_jobs', 'refit': True, 'return_train_score': False, 'scoring': None, 'verbose': 0}\n"
     ]
    }
   ],
   "source": [
    "# output the parameters of CV_1, CV_2, CV_3, or after RFE with LR or DT......choose based on highest test accuracy\n",
    "print(cv_3.get_params(deep=True))"
   ]
  },
  {
   "cell_type": "code",
   "execution_count": 20,
   "metadata": {},
   "outputs": [
    {
     "name": "stdout",
     "output_type": "stream",
     "text": [
      "{'criterion': 'gini', 'max_depth': 10, 'min_samples_leaf': 45}\n"
     ]
    },
    {
     "name": "stderr",
     "output_type": "stream",
     "text": [
      "C:\\Users\\jbrai\\Anaconda3\\lib\\site-packages\\sklearn\\base.py:315: UserWarning: Trying to unpickle estimator DecisionTreeClassifier from version 1.0 when using version 0.24.2. This might lead to breaking code or invalid results. Use at your own risk.\n",
      "  UserWarning)\n",
      "C:\\Users\\jbrai\\Anaconda3\\lib\\site-packages\\sklearn\\base.py:315: UserWarning: Trying to unpickle estimator GridSearchCV from version 1.0 when using version 0.24.2. This might lead to breaking code or invalid results. Use at your own risk.\n",
      "  UserWarning)\n"
     ]
    }
   ],
   "source": [
    "import pickle\n",
    "with open('CS.pickle', 'rb') as f:\n",
    "    dt_best,roc_index_dt_cv, fpr_dt_cv, tpr_dt_cv = pickle.load(f)\n",
    "\n",
    "print(dt_best.best_params_)"
   ]
  },
  {
   "cell_type": "code",
   "execution_count": 21,
   "metadata": {},
   "outputs": [
    {
     "name": "stdout",
     "output_type": "stream",
     "text": [
      "Humidity3pm : 0.5886507349443689\n",
      "Rainfall : 0.09856851752150844\n",
      "Pressure3pm : 0.07938239434915402\n",
      "WindGustSpeed : 0.0771197598018945\n",
      "Sunshine : 0.06917439105416191\n",
      "MinTemp : 0.014460088635201861\n",
      "Humidity9am : 0.014201940390590338\n",
      "MaxTemp : 0.011847631714827738\n",
      "Temp3pm : 0.008682004315862546\n",
      "Pressure9am : 0.007922214529194511\n",
      "Temp9am : 0.00745645193836812\n",
      "WindSpeed3pm : 0.007338933427116175\n",
      "WindSpeed9am : 0.0027630783284189183\n",
      "Evaporation : 0.0027362588075211104\n",
      "WindDir3pm_N : 0.002303431220597595\n",
      "Cloud3pm_8 : 0.001755270488763307\n",
      "WindDir9am_N : 0.0013885204950639394\n",
      "WindDir9am_NNE : 0.0011073150514016104\n",
      "WindGustDir_NE : 0.0010780886936541934\n",
      "WindDir3pm_NNW : 0.0008959354620227835\n"
     ]
    }
   ],
   "source": [
    "from dm_tools import analyse_feature_importance\n",
    "\n",
    "analyse_feature_importance(dt_best.best_estimator_, X.columns)"
   ]
  },
  {
   "cell_type": "code",
   "execution_count": 22,
   "metadata": {},
   "outputs": [
    {
     "name": "stdout",
     "output_type": "stream",
     "text": [
      "(99553, 7)\n"
     ]
    }
   ],
   "source": [
    "from sklearn.feature_selection import SelectFromModel\n",
    "\n",
    "selectmodel = SelectFromModel(dt_best.best_estimator_, prefit=True)\n",
    "X_train_sel_model = selectmodel.transform(X_train)\n",
    "X_test_sel_model = selectmodel.transform(X_test)\n",
    "\n",
    "print(X_train_sel_model.shape)"
   ]
  },
  {
   "cell_type": "code",
   "execution_count": 23,
   "metadata": {},
   "outputs": [
    {
     "name": "stdout",
     "output_type": "stream",
     "text": [
      "Train accuracy: 0.8464034233021607\n",
      "Test accuracy: 0.8473726151971125\n",
      "              precision    recall  f1-score   support\n",
      "\n",
      "           0       0.87      0.95      0.91     33101\n",
      "           1       0.74      0.49      0.59      9565\n",
      "\n",
      "    accuracy                           0.85     42666\n",
      "   macro avg       0.80      0.72      0.75     42666\n",
      "weighted avg       0.84      0.85      0.84     42666\n",
      "\n",
      "{'alpha': 1e-05, 'hidden_layer_sizes': (19,)}\n"
     ]
    }
   ],
   "source": [
    "params = {'hidden_layer_sizes': [(10,),(13,),(16,),(19,)], 'alpha': [0.1, 0.01, 0.001,0.00001]}\n",
    "\n",
    "cv_sel_model = GridSearchCV(param_grid=params, estimator=MLPClassifier(random_state=rs,max_iter=700), cv=10, n_jobs=-1)\n",
    "cv_sel_model.fit(X_train_sel_model, y_train)\n",
    "\n",
    "print(\"Train accuracy:\", cv_sel_model.score(X_train_sel_model, y_train))\n",
    "print(\"Test accuracy:\", cv_sel_model.score(X_test_sel_model, y_test))\n",
    "\n",
    "y_pred = cv_sel_model.predict(X_test_sel_model)\n",
    "print(classification_report(y_test, y_pred))\n",
    "\n",
    "print(cv_sel_model.best_params_)"
   ]
  },
  {
   "cell_type": "code",
   "execution_count": 24,
   "metadata": {},
   "outputs": [
    {
     "name": "stdout",
     "output_type": "stream",
     "text": [
      "{'cv': 10, 'error_score': nan, 'estimator__activation': 'relu', 'estimator__alpha': 0.0001, 'estimator__batch_size': 'auto', 'estimator__beta_1': 0.9, 'estimator__beta_2': 0.999, 'estimator__early_stopping': False, 'estimator__epsilon': 1e-08, 'estimator__hidden_layer_sizes': (100,), 'estimator__learning_rate': 'constant', 'estimator__learning_rate_init': 0.001, 'estimator__max_fun': 15000, 'estimator__max_iter': 700, 'estimator__momentum': 0.9, 'estimator__n_iter_no_change': 10, 'estimator__nesterovs_momentum': True, 'estimator__power_t': 0.5, 'estimator__random_state': 10, 'estimator__shuffle': True, 'estimator__solver': 'adam', 'estimator__tol': 0.0001, 'estimator__validation_fraction': 0.1, 'estimator__verbose': False, 'estimator__warm_start': False, 'estimator': MLPClassifier(max_iter=700, random_state=10), 'n_jobs': -1, 'param_grid': {'hidden_layer_sizes': [(10,), (13,), (16,), (19,)], 'alpha': [0.1, 0.01, 0.001, 1e-05]}, 'pre_dispatch': '2*n_jobs', 'refit': True, 'return_train_score': False, 'scoring': None, 'verbose': 0}\n"
     ]
    }
   ],
   "source": [
    "# output the parameters\n",
    "print(cv_sel_model.get_params(deep=True))"
   ]
  },
  {
   "cell_type": "code",
   "execution_count": 25,
   "metadata": {},
   "outputs": [
    {
     "name": "stdout",
     "output_type": "stream",
     "text": [
      "ROC index on test for NN_default: 0.8528102594898256\n",
      "ROC index on test for NN with relu: 0.8565937501268315\n",
      "ROC index on test for NN with gridsearch 1: 0.8777964519338578\n",
      "ROC index on test for NN with gridsearch 2: 0.8797321044354529\n",
      "ROC index on test for NN with gridsearch 2 new: 0.8797321044354529\n",
      "ROC index on test for NN with gridsearch 3: 0.8788900507946555\n",
      "ROC index on test for NN with gridsearch 3 new: 0.8788900507946555\n",
      "ROC index on test for NN with feature selection (model selection) and gridsearch: 0.8684267162298955\n"
     ]
    }
   ],
   "source": [
    "from sklearn.metrics import roc_auc_score\n",
    "\n",
    "y_pred_proba_nn_1 = model_1.predict_proba(X_test)\n",
    "y_pred_proba_nn_2 = model_2.predict_proba(X_test)\n",
    "y_pred_proba_cv_1 = cv_1.predict_proba(X_test)\n",
    "y_pred_proba_cv_2 = cv_2.predict_proba(X_test)\n",
    "y_pred_proba_cv_2_new = cv_2_new.predict_proba(X_test)\n",
    "y_pred_proba_cv_3 = cv_3.predict_proba(X_test)\n",
    "y_pred_proba_cv_3_new = cv_3_new.predict_proba(X_test)\n",
    "y_pred_proba_cv_sel_model = cv_sel_model.predict_proba(X_test_sel_model)\n",
    "\n",
    "\n",
    "roc_index_nn_1 = roc_auc_score(y_test, y_pred_proba_nn_1[:, 1])\n",
    "roc_index_nn_2 = roc_auc_score(y_test, y_pred_proba_nn_2[:, 1])\n",
    "roc_index_cv_1 = roc_auc_score(y_test, y_pred_proba_cv_1[:, 1])\n",
    "roc_index_cv_2 = roc_auc_score(y_test, y_pred_proba_cv_2[:, 1])\n",
    "roc_index_cv_2_new = roc_auc_score(y_test, y_pred_proba_cv_2_new[:, 1])\n",
    "roc_index_cv_3 = roc_auc_score(y_test, y_pred_proba_cv_3[:, 1])\n",
    "roc_index_cv_3_new = roc_auc_score(y_test, y_pred_proba_cv_3_new[:, 1])\n",
    "roc_index_cv_sel_model = roc_auc_score(y_test, y_pred_proba_cv_sel_model[:, 1])\n",
    "\n",
    "\n",
    "print(\"ROC index on test for NN_default:\", roc_index_nn_1)\n",
    "print(\"ROC index on test for NN with relu:\", roc_index_nn_2)\n",
    "print(\"ROC index on test for NN with gridsearch 1:\", roc_index_cv_1)\n",
    "print(\"ROC index on test for NN with gridsearch 2:\", roc_index_cv_2)\n",
    "print(\"ROC index on test for NN with gridsearch 2 new:\", roc_index_cv_2_new)\n",
    "print(\"ROC index on test for NN with gridsearch 3:\", roc_index_cv_3)\n",
    "print(\"ROC index on test for NN with gridsearch 3 new:\", roc_index_cv_3_new)\n",
    "print(\"ROC index on test for NN with feature selection (model selection) and gridsearch:\", roc_index_cv_sel_model)\n",
    "\n",
    "from sklearn.metrics import roc_curve\n",
    "\n",
    "fpr_nn_1, tpr_nn_1, thresholds_nn_1 = roc_curve(y_test, y_pred_proba_nn_1[:,1])\n",
    "fpr_nn_2, tpr_nn_2, thresholds_nn_2 = roc_curve(y_test, y_pred_proba_nn_2[:,1])\n",
    "fpr_cv_1, tpr_cv_1, thresholds_cv_1 = roc_curve(y_test, y_pred_proba_cv_1[:,1])\n",
    "fpr_cv_2, tpr_cv_2, thresholds_cv_2 = roc_curve(y_test, y_pred_proba_cv_2[:,1])\n",
    "fpr_cv_2_new, tpr_cv_2_new, thresholds_cv_2_new = roc_curve(y_test, y_pred_proba_cv_2_new[:,1])\n",
    "fpr_cv_3, tpr_cv_3, thresholds_cv_3 = roc_curve(y_test, y_pred_proba_cv_3[:,1])\n",
    "fpr_cv_3_new, tpr_cv_3_new, thresholds_cv_3_new = roc_curve(y_test, y_pred_proba_cv_3_new[:,1])\n",
    "fpr_cv_sel_model, tpr_cv_sel_model, thresholds_cv_sel_model = roc_curve(y_test, y_pred_proba_cv_sel_model[:,1])"
   ]
  },
  {
   "cell_type": "code",
   "execution_count": 26,
   "metadata": {},
   "outputs": [
    {
     "data": {
      "image/png": "[encoded data removed]",
      "text/plain": [
       "<Figure size 432x288 with 1 Axes>"
      ]
     },
     "metadata": {
      "needs_background": "light"
     },
     "output_type": "display_data"
    }
   ],
   "source": [
    "import matplotlib.pyplot as plt\n",
    "\n",
    "plt.plot(fpr_nn_1, tpr_nn_1, label='NN_default {:.3f}'.format(roc_index_nn_1), color='red', lw=0.5)\n",
    "plt.plot(fpr_nn_2, tpr_nn_2, label='NN with relu {:.3f}'.format(roc_index_nn_2), color='green', lw=0.5)\n",
    "plt.plot(fpr_cv_1, tpr_cv_1, label='NN cv_1 {:.3f}'.format(roc_index_cv_1), color='blue', lw=0.5)\n",
    "plt.plot(fpr_cv_2, tpr_cv_2, label='NN cv_2 {:.3f}'.format(roc_index_cv_2), color='yellow', lw=0.5)\n",
    "plt.plot(fpr_cv_2_new, tpr_cv_2_new, label='NN cv_2_new {:.3f}'.format(roc_index_cv_2_new), color='orange', lw=0.5)\n",
    "plt.plot(fpr_cv_3, tpr_cv_3, label='NN cv_3 {:.3f}'.format(roc_index_cv_3), color='cyan', lw=0.5)\n",
    "plt.plot(fpr_cv_3_new, tpr_cv_3_new, label='NN cv_3_new {:.3f}'.format(roc_index_cv_3_new), color='gray', lw=0.5)\n",
    "plt.plot(fpr_cv_sel_model, tpr_cv_sel_model, label='NN with cv_sel_model {:.3f}'.format(roc_index_cv_sel_model), color='black', lw=0.5)\n",
    "\n",
    "\n",
    "plt.plot([0, 1], [0, 1], color='navy', lw=0.5, linestyle='--')\n",
    "plt.xlim([0.0, 1.0])\n",
    "plt.ylim([0.0, 1.0])\n",
    "plt.xlabel('False Positive Rate')\n",
    "plt.ylabel('True Positive Rate')\n",
    "plt.title('Receiver operating characteristic')\n",
    "plt.legend(loc=\"lower right\")\n",
    "plt.show()"
   ]
  },
  {
   "cell_type": "code",
   "execution_count": 27,
   "metadata": {},
   "outputs": [
    {
     "name": "stderr",
     "output_type": "stream",
     "text": [
      "C:\\Users\\jbrai\\Anaconda3\\lib\\site-packages\\sklearn\\base.py:315: UserWarning: Trying to unpickle estimator DecisionTreeClassifier from version 1.0 when using version 0.24.2. This might lead to breaking code or invalid results. Use at your own risk.\n",
      "  UserWarning)\n",
      "C:\\Users\\jbrai\\Anaconda3\\lib\\site-packages\\sklearn\\base.py:315: UserWarning: Trying to unpickle estimator GridSearchCV from version 1.0 when using version 0.24.2. This might lead to breaking code or invalid results. Use at your own risk.\n",
      "  UserWarning)\n",
      "C:\\Users\\jbrai\\Anaconda3\\lib\\site-packages\\sklearn\\base.py:315: UserWarning: Trying to unpickle estimator LogisticRegression from version 1.0 when using version 0.24.2. This might lead to breaking code or invalid results. Use at your own risk.\n",
      "  UserWarning)\n"
     ]
    },
    {
     "data": {
      "image/png": "[encoded data removed]",
      "text/plain": [
       "<Figure size 432x288 with 1 Axes>"
      ]
     },
     "metadata": {
      "needs_background": "light"
     },
     "output_type": "display_data"
    }
   ],
   "source": [
    "import pickle\n",
    "with open('CS.pickle', 'rb') as f:\n",
    "    dt_best,roc_index_dt_cv, fpr_dt_cv, tpr_dt_cv = pickle.load(f)\n",
    "with open('LR.pickle', 'rb') as f:\n",
    "    lr_best,roc_index_lr_cv, fpr_lr_cv, tpr_lr_cv = pickle.load(f)   \n",
    "    \n",
    "\n",
    "plt.plot(fpr_dt_cv, tpr_dt_cv, label='DT {:.3f}'.format(roc_index_dt_cv), color='red', lw=0.5)\n",
    "plt.plot(fpr_lr_cv, tpr_lr_cv, label='LR {:.3f}'.format(roc_index_lr_cv), color='green', lw=0.5)\n",
    "plt.plot(fpr_cv_2, tpr_cv_2, label='NN cv_2 {:.3f}'.format(roc_index_cv_2), color='blue', lw=0.5)\n",
    "\n",
    "plt.plot([0, 1], [0, 1], color='navy', lw=0.5, linestyle='--')\n",
    "plt.xlim([0.0, 1.0])\n",
    "plt.ylim([0.0, 1.0])\n",
    "plt.xlabel('False Positive Rate')\n",
    "plt.ylabel('True Positive Rate')\n",
    "plt.title('Receiver operating characteristic example')\n",
    "plt.legend(loc=\"lower right\")\n",
    "plt.show() "
   ]
  },
  {
   "cell_type": "code",
   "execution_count": null,
   "metadata": {},
   "outputs": [],
   "source": [
    " "
   ]
  }
 ],
 "metadata": {
  "kernelspec": {
   "display_name": "Python 3 (ipykernel)",
   "language": "python",
   "name": "python3"
  },
  "language_info": {
   "codemirror_mode": {
    "name": "ipython",
    "version": 3
   },
   "file_extension": ".py",
   "mimetype": "text/x-python",
   "name": "python",
   "nbconvert_exporter": "python",
   "pygments_lexer": "ipython3",
   "version": "3.8.8"
  }
 },
 "nbformat": 4,
 "nbformat_minor": 2
}
