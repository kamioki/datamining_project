{
 "cells": [
  {
   "cell_type": "code",
   "execution_count": 1,
   "metadata": {},
   "outputs": [],
   "source": [
    "import pandas as pd\n",
    "import numpy as np\n",
    "from sklearn.model_selection import train_test_split\n",
    "from sklearn.metrics import classification_report, accuracy_score\n",
    "from sklearn.model_selection import GridSearchCV\n",
    "\n",
    "# set the random seed - consistent\n",
    "rs = 10\n",
    "\n",
    "# load the data\n",
    "#importing the data file and displaying the data types\n",
    "df = pd.read_csv('D3.csv')\n",
    "\n",
    "df[['Location', 'WindGustDir', 'WindDir9am', \n",
    "    'WindDir3pm', 'Cloud9am', 'Cloud3pm']] = df[['Location', 'WindGustDir', 'WindDir9am', \n",
    "                                                 'WindDir3pm', 'Cloud9am', 'Cloud3pm']].astype(str)\n",
    "\n",
    "# drop Year\n",
    "df.drop(['Year', 'Location', 'Month'], axis=1, inplace=True)\n",
    "\n",
    "# one-hot encoding\n",
    "df = pd.get_dummies(df)\n",
    "\n",
    "# target/input split\n",
    "y = df['RainTomorrow']\n",
    "#X = df[['Humidity3pm', 'Pressure3pm', 'Rainfall', 'WindGustSpeed']]\n",
    "X = df.drop(['RainTomorrow'], axis=1)\n",
    "\n",
    "#convert X from pandas Dataframe to numpy matrix for sklearn\n",
    "X_mat = X.to_numpy()\n",
    "\n",
    "from sklearn.model_selection import train_test_split\n",
    "\n",
    "# setting random state\n",
    "rs = 10\n",
    "X_train, X_test, y_train, y_test = train_test_split(X_mat, y, test_size=0.3, stratify=y, random_state=rs)"
   ]
  },
  {
   "cell_type": "code",
   "execution_count": 2,
   "metadata": {},
   "outputs": [
    {
     "name": "stdout",
     "output_type": "stream",
     "text": [
      "Before scaling\n",
      "-------------\n",
      "Variable #0: min -8.5, max 31.9, mean 12.21 and std dev 6.38\n",
      "Variable #1: min -4.8, max 48.1, mean 23.24 and std dev 7.10\n",
      "Variable #2: min 0.0, max 371.0, mean 2.37 and std dev 8.59\n",
      "Variable #3: min 0.0, max 145.0, mean 5.48 and std dev 3.17\n",
      "Variable #4: min 0.0, max 14.5, mean 7.61 and std dev 2.74\n",
      "After scaling\n",
      "-------------\n",
      "Variable #0: min -3.2435110107767673, max 3.0851121630285783, mean 0.00 and std dev 1.00\n",
      "Variable #1: min -3.949192863940767, max 3.501686409725393, mean 0.00 and std dev 1.00\n",
      "Variable #2: min -0.27615087806300226, max 42.92717183441524, mean -0.00 and std dev 1.00\n",
      "Variable #3: min -1.7283141576961072, max 43.98261239301211, mean -0.00 and std dev 1.00\n",
      "Variable #4: min -2.7777448831061067, max 2.517232055162849, mean 0.00 and std dev 1.00\n"
     ]
    }
   ],
   "source": [
    "from sklearn.preprocessing import StandardScaler\n",
    "\n",
    "# initialise a standard scaler object\n",
    "scaler = StandardScaler()\n",
    "\n",
    "# visualise min, max, mean and standard dev of data before scaling\n",
    "print(\"Before scaling\\n-------------\")\n",
    "for i in range(5):\n",
    "    col = X_train[:,i]\n",
    "    print(\"Variable #{}: min {}, max {}, mean {:.2f} and std dev {:.2f}\".\n",
    "          format(i, min(col), max(col), np.mean(col), np.std(col)))\n",
    "\n",
    "# learn the mean and std.dev of variables from training data\n",
    "# then use the learned values to transform training data\n",
    "X_train = scaler.fit_transform(X_train, y_train)\n",
    "\n",
    "print(\"After scaling\\n-------------\")\n",
    "for i in range(5):\n",
    "    col = X_train[:,i]\n",
    "    print(\"Variable #{}: min {}, max {}, mean {:.2f} and std dev {:.2f}\".\n",
    "          format(i, min(col), max(col), np.mean(col), np.std(col)))\n",
    "\n",
    "# use the statistic that you learned from training to transform test data\n",
    "# NEVER learn from test data, this is supposed to be a set of dataset\n",
    "# that the model has never seen before\n",
    "X_test = scaler.transform(X_test)"
   ]
  },
  {
   "cell_type": "code",
   "execution_count": 3,
   "metadata": {},
   "outputs": [
    {
     "data": {
      "text/plain": [
       "LogisticRegression(random_state=10)"
      ]
     },
     "execution_count": 3,
     "metadata": {},
     "output_type": "execute_result"
    }
   ],
   "source": [
    "from sklearn.linear_model import LogisticRegression\n",
    "\n",
    "model = LogisticRegression(random_state=rs)\n",
    "\n",
    "# fit it to training data\n",
    "model.fit(X_train, y_train)"
   ]
  },
  {
   "cell_type": "code",
   "execution_count": 4,
   "metadata": {},
   "outputs": [
    {
     "name": "stdout",
     "output_type": "stream",
     "text": [
      "Train accuracy: 0.8413608831476701\n",
      "Test accuracy: 0.8431772371443303\n",
      "              precision    recall  f1-score   support\n",
      "\n",
      "           0       0.86      0.95      0.90     33101\n",
      "           1       0.72      0.49      0.58      9565\n",
      "\n",
      "    accuracy                           0.84     42666\n",
      "   macro avg       0.79      0.72      0.74     42666\n",
      "weighted avg       0.83      0.84      0.83     42666\n",
      "\n"
     ]
    }
   ],
   "source": [
    "# training and test accuracy\n",
    "print(\"Train accuracy:\", model.score(X_train, y_train))\n",
    "print(\"Test accuracy:\", model.score(X_test, y_test))\n",
    "\n",
    "# classification report on test data\n",
    "y_pred = model.predict(X_test)\n",
    "print(classification_report(y_test, y_pred))"
   ]
  },
  {
   "cell_type": "code",
   "execution_count": 5,
   "metadata": {},
   "outputs": [
    {
     "name": "stdout",
     "output_type": "stream",
     "text": [
      "Humidity3pm : 1.1039286061727833\n",
      "Pressure3pm : -1.0305513231019459\n",
      "Pressure9am : 0.6558048555551268\n",
      "WindGustSpeed : 0.6522005623694803\n",
      "Sunshine : -0.35324213590686276\n",
      "MaxTemp : -0.29301929839809965\n",
      "Cloud3pm_0 : -0.28435229034113896\n",
      "Temp3pm : 0.2060414822677072\n",
      "Rainfall : 0.2012485872020752\n",
      "WindSpeed3pm : -0.1897548056818935\n",
      "Cloud3pm_8 : 0.14887368800406572\n",
      "Cloud3pm_1 : -0.1339957441218113\n",
      "Humidity9am : 0.11372596608058332\n",
      "MinTemp : 0.10904022985791986\n",
      "Temp9am : 0.0896952054504609\n",
      "Cloud3pm_7 : 0.08136018882998064\n",
      "WindDir3pm_NW : 0.08067128053479372\n",
      "WindDir3pm_NE : -0.07724239460483544\n",
      "WindDir9am_NNE : 0.07599770339864266\n",
      "Cloud9am_0 : -0.07046151721870653\n"
     ]
    }
   ],
   "source": [
    "# grab feature importances from the model and feature name from the original X\n",
    "coef = model.coef_[0]\n",
    "feature_names = X.columns\n",
    "\n",
    "# sort them out in descending order\n",
    "indices = np.argsort(np.absolute(coef))\n",
    "indices = np.flip(indices, axis=0)\n",
    "\n",
    "# limit to 20 features, you can leave this out to print out everything\n",
    "indices = indices[:20]\n",
    "\n",
    "for i in indices:\n",
    "    print(feature_names[i], ':', coef[i])"
   ]
  },
  {
   "cell_type": "code",
   "execution_count": 6,
   "metadata": {},
   "outputs": [
    {
     "data": {
      "text/plain": [
       "GridSearchCV(cv=10, estimator=LogisticRegression(random_state=10), n_jobs=-1,\n",
       "             param_grid={'C': [1e-06, 1e-05, 0.0001, 0.001, 0.01, 0.1, 1, 10,\n",
       "                               100, 1000]},\n",
       "             return_train_score=True)"
      ]
     },
     "execution_count": 6,
     "metadata": {},
     "output_type": "execute_result"
    }
   ],
   "source": [
    "#######################################################################################################################\n",
    "# grid search CV\n",
    "params = {'C': [pow(10, x) for x in range(-6, 4)]}\n",
    "\n",
    "# use all cores to tune logistic regression with C parameter\n",
    "cv = GridSearchCV(param_grid=params, estimator=LogisticRegression(random_state=rs),return_train_score=True, cv=10, n_jobs=-1)\n",
    "cv.fit(X_train, y_train)"
   ]
  },
  {
   "cell_type": "code",
   "execution_count": 18,
   "metadata": {},
   "outputs": [
    {
     "name": "stdout",
     "output_type": "stream",
     "text": [
      "{'mean_fit_time': array([0.67620602, 0.53076673, 0.54721978, 0.89008462, 1.40327218,\n",
      "       1.97533004, 1.53089054, 1.3981703 , 1.57450571, 1.45513477]), 'std_fit_time': array([0.13040089, 0.03813122, 0.05959839, 0.02985604, 0.12396857,\n",
      "       0.16715092, 0.10543407, 0.08171455, 0.08055295, 0.1214965 ]), 'mean_score_time': array([0.00785093, 0.00589564, 0.00470595, 0.00724688, 0.00449848,\n",
      "       0.01229067, 0.01019723, 0.00574741, 0.00460446, 0.00435488]), 'std_score_time': array([0.00800413, 0.00434099, 0.0034594 , 0.00583191, 0.00232424,\n",
      "       0.01459143, 0.00968736, 0.00466378, 0.00255859, 0.0013746 ]), 'param_C': masked_array(data=[1e-06, 1e-05, 0.0001, 0.001, 0.01, 0.1, 1, 10, 100,\n",
      "                   1000],\n",
      "             mask=[False, False, False, False, False, False, False, False,\n",
      "                   False, False],\n",
      "       fill_value='?',\n",
      "            dtype=object), 'params': [{'C': 1e-06}, {'C': 1e-05}, {'C': 0.0001}, {'C': 0.001}, {'C': 0.01}, {'C': 0.1}, {'C': 1}, {'C': 10}, {'C': 100}, {'C': 1000}], 'split0_test_score': array([0.77581358, 0.77892728, 0.82583367, 0.83547609, 0.83808759,\n",
      "       0.83758538, 0.83748493, 0.83758538, 0.83758538, 0.83758538]), 'split1_test_score': array([0.77581358, 0.77882684, 0.82934914, 0.83899156, 0.84069908,\n",
      "       0.84110084, 0.84079952, 0.84079952, 0.84079952, 0.84079952]), 'split2_test_score': array([0.77581358, 0.77882684, 0.82874648, 0.8378867 , 0.83838891,\n",
      "       0.83768582, 0.83758538, 0.83748493, 0.83748493, 0.83748493]), 'split3_test_score': array([0.77589151, 0.77900552, 0.83174284, 0.84028127, 0.84138624,\n",
      "       0.84128579, 0.84118533, 0.84138624, 0.84138624, 0.84138624]), 'split4_test_score': array([0.77579106, 0.77920643, 0.82521346, 0.83837268, 0.84038172,\n",
      "       0.84008036, 0.83987946, 0.83987946, 0.83987946, 0.83987946]), 'split5_test_score': array([0.77579106, 0.77880462, 0.82742341, 0.8372677 , 0.83756906,\n",
      "       0.83787042, 0.83787042, 0.83797087, 0.83797087, 0.83797087]), 'split6_test_score': array([0.77579106, 0.77930688, 0.83566047, 0.84409844, 0.84490206,\n",
      "       0.84530387, 0.84530387, 0.84520342, 0.84530387, 0.84530387]), 'split7_test_score': array([0.77579106, 0.77870417, 0.83003516, 0.83977901, 0.84018081,\n",
      "       0.8395781 , 0.83987946, 0.83987946, 0.83987946, 0.83987946]), 'split8_test_score': array([0.77579106, 0.77900552, 0.83355098, 0.84299347, 0.84450025,\n",
      "       0.84470116, 0.84480161, 0.84490206, 0.84490206, 0.84490206]), 'split9_test_score': array([0.77579106, 0.77940733, 0.83033651, 0.8441989 , 0.8446007 ,\n",
      "       0.84470116, 0.84490206, 0.84490206, 0.84490206, 0.84490206]), 'mean_test_score': array([0.77580786, 0.77900214, 0.82978921, 0.83993458, 0.84106964,\n",
      "       0.84098929, 0.8409692 , 0.84099934, 0.84100938, 0.84100938]), 'std_test_score': array([2.96466817e-05, 2.22187204e-04, 3.10259744e-03, 2.82021784e-03,\n",
      "       2.62218897e-03, 2.85160227e-03, 2.90839281e-03, 2.89848958e-03,\n",
      "       2.91317896e-03, 2.91317896e-03]), 'rank_test_score': array([10,  9,  8,  7,  1,  5,  6,  4,  2,  2]), 'split0_train_score': array([0.77580723, 0.7790551 , 0.83023985, 0.84074244, 0.84172461,\n",
      "       0.84200364, 0.84195899, 0.84190319, 0.84190319, 0.84190319]), 'split1_train_score': array([0.77580723, 0.77903278, 0.83006127, 0.84029599, 0.84159068,\n",
      "       0.84153487, 0.84155719, 0.84155719, 0.84156836, 0.84156836]), 'split2_train_score': array([0.77580723, 0.77907742, 0.83003895, 0.84030715, 0.84175809,\n",
      "       0.84184738, 0.84188087, 0.84183622, 0.84182506, 0.84182506]), 'split3_train_score': array([0.77579857, 0.77895712, 0.82956093, 0.8399183 , 0.84100092,\n",
      "       0.84122413, 0.84119065, 0.84114601, 0.84114601, 0.84114601]), 'split4_train_score': array([0.77580973, 0.7789906 , 0.83031987, 0.83997411, 0.84145851,\n",
      "       0.84145851, 0.84142503, 0.84144735, 0.84143619, 0.84142503]), 'split5_train_score': array([0.77580973, 0.77903525, 0.83010781, 0.84035358, 0.84192728,\n",
      "       0.84201656, 0.84184915, 0.84186031, 0.84183799, 0.84183799]), 'split6_train_score': array([0.77580973, 0.77890131, 0.829427  , 0.83982901, 0.84095627,\n",
      "       0.84097859, 0.84097859, 0.84098975, 0.84100092, 0.84100092]), 'split7_train_score': array([0.77580973, 0.77910221, 0.83008549, 0.83978437, 0.84173754,\n",
      "       0.84177102, 0.84181567, 0.84178218, 0.84178218, 0.84178218]), 'split8_train_score': array([0.77580973, 0.77894596, 0.82941584, 0.83968392, 0.84091163,\n",
      "       0.84086698, 0.84071073, 0.84069957, 0.84069957, 0.84069957]), 'split9_train_score': array([0.77580973, 0.77896828, 0.82971718, 0.83976205, 0.84126878,\n",
      "       0.84111252, 0.84106788, 0.84104556, 0.84104556, 0.84104556]), 'mean_train_score': array([0.77580786, 0.7790066 , 0.82989742, 0.84006509, 0.84143343,\n",
      "       0.84148142, 0.84144348, 0.84142673, 0.8414245 , 0.84142339]), 'std_train_score': array([3.29396956e-06, 6.07875273e-05, 3.19558910e-04, 3.24871881e-04,\n",
      "       3.55816325e-04, 4.01611308e-04, 4.16108286e-04, 4.08691551e-04,\n",
      "       4.04405130e-04, 4.04386726e-04])}\n"
     ]
    }
   ],
   "source": [
    "result_set = cv.cv_results_\n",
    "print(result_set)"
   ]
  },
  {
   "cell_type": "code",
   "execution_count": 19,
   "metadata": {
    "scrolled": true
   },
   "outputs": [
    {
     "name": "stdout",
     "output_type": "stream",
     "text": [
      "Total number of models:  10\n"
     ]
    },
    {
     "data": {
      "image/png": "[encoded data removed]",
      "text/plain": [
       "<Figure size 432x288 with 1 Axes>"
      ]
     },
     "metadata": {
      "needs_background": "light"
     },
     "output_type": "display_data"
    }
   ],
   "source": [
    "import matplotlib.pyplot as plt\n",
    "\n",
    "train_result = result_set['mean_train_score']\n",
    "test_result = result_set['mean_test_score']\n",
    "print(\"Total number of models: \", len(test_result))\n",
    "# plot Hyperparameter C values vs training and test accuracy score\n",
    "plt.plot(range(0, len(train_result)), train_result, 'b', range(0,len(test_result)), test_result, 'r')\n",
    "plt.xlabel('Hyperparameter C\\nBlue = training acc. Red = test acc.')\n",
    "plt.xticks(range(0, len(train_result)),[pow(10, x) for x in range(-6, 4)])\n",
    "plt.ylabel('score')\n",
    "plt.show()"
   ]
  },
  {
   "cell_type": "code",
   "execution_count": 20,
   "metadata": {},
   "outputs": [
    {
     "name": "stdout",
     "output_type": "stream",
     "text": [
      "{'C': 0.01}\n"
     ]
    }
   ],
   "source": [
    "print(cv.best_params_)"
   ]
  },
  {
   "cell_type": "code",
   "execution_count": 21,
   "metadata": {},
   "outputs": [
    {
     "name": "stdout",
     "output_type": "stream",
     "text": [
      "Train accuracy: 0.8414111076512009\n",
      "Test accuracy: 0.8432241128767637\n"
     ]
    }
   ],
   "source": [
    "cv.fit(X_train, y_train)\n",
    "\n",
    "print(\"Train accuracy:\", cv.score(X_train, y_train))\n",
    "print(\"Test accuracy:\", cv.score(X_test, y_test))"
   ]
  },
  {
   "cell_type": "code",
   "execution_count": 22,
   "metadata": {},
   "outputs": [
    {
     "name": "stdout",
     "output_type": "stream",
     "text": [
      "Original feature set 80\n",
      "Number of features after elimination 48\n"
     ]
    }
   ],
   "source": [
    "from sklearn.feature_selection import RFECV\n",
    "\n",
    "rfe = RFECV(estimator = LogisticRegression(random_state=rs), cv=10)\n",
    "rfe.fit(X_train, y_train) # run the RFECV\n",
    "\n",
    "# comparing how many variables before and after\n",
    "print(\"Original feature set\", X_train.shape[1])\n",
    "print(\"Number of features after elimination\", rfe.n_features_)"
   ]
  },
  {
   "cell_type": "code",
   "execution_count": 23,
   "metadata": {},
   "outputs": [],
   "source": [
    "X_train_sel = rfe.transform(X_train)\n",
    "X_test_sel = rfe.transform(X_test)"
   ]
  },
  {
   "cell_type": "code",
   "execution_count": 24,
   "metadata": {},
   "outputs": [
    {
     "name": "stdout",
     "output_type": "stream",
     "text": [
      "Train accuracy: 0.8415416913603809\n",
      "Test accuracy: 0.8431537992781137\n",
      "              precision    recall  f1-score   support\n",
      "\n",
      "           0       0.86      0.95      0.90     33101\n",
      "           1       0.72      0.49      0.58      9565\n",
      "\n",
      "    accuracy                           0.84     42666\n",
      "   macro avg       0.79      0.72      0.74     42666\n",
      "weighted avg       0.83      0.84      0.83     42666\n",
      "\n",
      "{'C': 0.1}\n"
     ]
    }
   ],
   "source": [
    "# grid search CV\n",
    "params = {'C': [pow(10, x) for x in range(-6, 4)]}\n",
    "\n",
    "rfe_cv = GridSearchCV(param_grid=params, estimator=LogisticRegression(random_state=rs), cv=10, n_jobs=-1)\n",
    "rfe_cv.fit(X_train_sel, y_train)\n",
    "\n",
    "# test the best model\n",
    "print(\"Train accuracy:\", rfe_cv.score(X_train_sel, y_train))\n",
    "print(\"Test accuracy:\", rfe_cv.score(X_test_sel, y_test))\n",
    "\n",
    "y_pred = rfe_cv.predict(X_test_sel)\n",
    "print(classification_report(y_test, y_pred))\n",
    "\n",
    "# print parameters of the best model\n",
    "print(rfe_cv.best_params_)"
   ]
  },
  {
   "cell_type": "code",
   "execution_count": 25,
   "metadata": {},
   "outputs": [
    {
     "name": "stdout",
     "output_type": "stream",
     "text": [
      "ROC index on test for `model`: 0.8686376216826156\n",
      "ROC index on test for `cv`: 0.8682817591987823\n",
      "ROC index on test for `rfe_cv`: 0.868573688351669\n"
     ]
    }
   ],
   "source": [
    "from sklearn.metrics import roc_auc_score\n",
    "\n",
    "y_pred_proba_lr = model.predict_proba(X_test)\n",
    "y_pred_proba_lr_cv = cv.predict_proba(X_test)\n",
    "y_pred_proba_rfe_cv = rfe_cv.predict_proba(X_test_sel)\n",
    "\n",
    "roc_index_lr = roc_auc_score(y_test, y_pred_proba_lr[:, 1])\n",
    "roc_index_lr_cv = roc_auc_score(y_test, y_pred_proba_lr_cv[:, 1])\n",
    "roc_index_rfe_cv = roc_auc_score(y_test, y_pred_proba_rfe_cv[:, 1])\n",
    "\n",
    "print(\"ROC index on test for `model`:\", roc_index_lr)\n",
    "print(\"ROC index on test for `cv`:\", roc_index_lr_cv)\n",
    "print(\"ROC index on test for `rfe_cv`:\", roc_index_rfe_cv)"
   ]
  },
  {
   "cell_type": "code",
   "execution_count": 26,
   "metadata": {},
   "outputs": [],
   "source": [
    "from sklearn.metrics import roc_curve\n",
    "\n",
    "fpr_lr, tpr_lr, thresholds_lr = roc_curve(y_test, y_pred_proba_lr[:,1])\n",
    "fpr_lr_cv, tpr_lr_cv, thresholds_lr_cv = roc_curve(y_test, y_pred_proba_lr_cv[:,1])\n",
    "fpr_rfe_cv, tpr_rfe_cv, thresholds_rfe_cv = roc_curve(y_test, y_pred_proba_rfe_cv[:,1])"
   ]
  },
  {
   "cell_type": "code",
   "execution_count": 29,
   "metadata": {},
   "outputs": [
    {
     "data": {
      "image/png": "[encoded data removed]",
      "text/plain": [
       "<Figure size 432x288 with 1 Axes>"
      ]
     },
     "metadata": {
      "needs_background": "light"
     },
     "output_type": "display_data"
    }
   ],
   "source": [
    "import matplotlib.pyplot as plt\n",
    "\n",
    "plt.plot(fpr_lr, tpr_lr, label='ROC Curve for `model` {:.3f}'.format(roc_index_lr), color='red', lw=0.5)\n",
    "plt.plot(fpr_lr_cv, tpr_lr_cv, label='ROC Curve for `cv` {:.3f}'.format(roc_index_lr_cv), color='green', lw=0.5)\n",
    "plt.plot(fpr_rfe_cv, tpr_rfe_cv, label='ROC Curve for `rfe_cv` {:.3f}'.format(roc_index_rfe_cv), color='blue', lw=0.5)\n",
    "\n",
    "plt.plot([0, 1], [0, 1], color='navy', lw=0.5, linestyle='--')\n",
    "plt.xlim([0.0, 1.0])\n",
    "plt.ylim([0.0, 1.0])\n",
    "plt.xlabel('False Positive Rate')\n",
    "plt.ylabel('True Positive Rate')\n",
    "plt.title('Receiver operating characteristic example')\n",
    "plt.legend(loc=\"lower right\")\n",
    "plt.plot(range(40),range(40))\n",
    "plt.show()"
   ]
  },
  {
   "cell_type": "code",
   "execution_count": 17,
   "metadata": {},
   "outputs": [],
   "source": [
    "import pickle\n",
    "lr_best = rfe_cv\n",
    "roc_index_lr_best = roc_index_rfe_cv\n",
    "tpr_lr_best = tpr_rfe_cv\n",
    "fpr_lr_best = fpr_rfe_cv\n",
    "with open('LR.pickle', 'wb') as f:\n",
    "    pickle.dump([lr_best,roc_index_lr_best, fpr_lr_best, tpr_lr_best], f)"
   ]
  },
  {
   "cell_type": "code",
   "execution_count": null,
   "metadata": {},
   "outputs": [],
   "source": []
  }
 ],
 "metadata": {
  "kernelspec": {
   "display_name": "Python 3 (ipykernel)",
   "language": "python",
   "name": "python3"
  },
  "language_info": {
   "codemirror_mode": {
    "name": "ipython",
    "version": 3
   },
   "file_extension": ".py",
   "mimetype": "text/x-python",
   "name": "python",
   "nbconvert_exporter": "python",
   "pygments_lexer": "ipython3",
   "version": "3.8.8"
  }
 },
 "nbformat": 4,
 "nbformat_minor": 2
}
